{
 "cells": [
  {
   "cell_type": "markdown",
   "metadata": {
    "id": "PnBH4WfLjnzK"
   },
   "source": [
    "# Введение\n",
    "Цель данного ноутбука заключается в создании модели, способной отличать кликбейтные тексты от обычных."
   ]
  },
  {
   "cell_type": "markdown",
   "metadata": {
    "id": "FGGDlJEbjxjg"
   },
   "source": [
    "# Импортируем библиотеки"
   ]
  },
  {
   "cell_type": "code",
   "execution_count": 1,
   "metadata": {
    "id": "GxPG9Us8jx3B"
   },
   "outputs": [
    {
     "name": "stderr",
     "output_type": "stream",
     "text": [
      "2024-04-10 12:50:02.330544: I tensorflow/core/platform/cpu_feature_guard.cc:193] This TensorFlow binary is optimized with oneAPI Deep Neural Network Library (oneDNN) to use the following CPU instructions in performance-critical operations:  SSE4.1 SSE4.2 AVX AVX2 FMA\n",
      "To enable them in other operations, rebuild TensorFlow with the appropriate compiler flags.\n"
     ]
    }
   ],
   "source": [
    "import numpy as np\n",
    "import pandas as pd\n",
    "import matplotlib.pyplot as plt\n",
    "\n",
    "from sklearn.model_selection import train_test_split\n",
    "from sklearn.metrics import classification_report\n",
    "\n",
    "from tensorflow.keras.models import Sequential\n",
    "from tensorflow.keras.layers import Embedding, LSTM, Dense, Dropout, GlobalMaxPooling1D\n",
    "from tensorflow.keras.preprocessing.text import Tokenizer\n",
    "from tensorflow.keras.preprocessing.sequence import pad_sequences\n",
    "from tensorflow.keras.callbacks import ModelCheckpoint, EarlyStopping\n",
    "\n",
    "import warnings\n",
    "warnings.filterwarnings('ignore')"
   ]
  },
  {
   "cell_type": "markdown",
   "metadata": {
    "id": "JFtdzGEkj1J3"
   },
   "source": [
    "# Загружаем данные\n",
    "Мы рассматриваем 3 датасета *(один с kaggle, другие два сгенерированы с помощью YandexGPT)*"
   ]
  },
  {
   "cell_type": "markdown",
   "metadata": {
    "id": "Szoqb6m-likJ"
   },
   "source": [
    "## Датасеты сгенерированные с помощью YandexGPT\n",
    "Они были сгенерированы в разное время, поэтому их структура немного отличается друг от друга."
   ]
  },
  {
   "cell_type": "code",
   "execution_count": 2,
   "metadata": {
    "id": "czH9TKN1jzKl"
   },
   "outputs": [
    {
     "name": "stderr",
     "output_type": "stream",
     "text": [
      "Skipping line 5022: expected 3 fields, saw 4\n",
      "\n"
     ]
    }
   ],
   "source": [
    "FILE_1 = 'files/yandexgpt_generated_1.csv'\n",
    "FILE_2 = 'files/yandexgpt_generated_2.csv'\n",
    "\n",
    "temp1 = pd.read_csv(FILE_1, index_col='index', on_bad_lines='warn')\n",
    "temp2 = pd.read_csv(FILE_2, index_col='index', on_bad_lines='warn')\n",
    "\n",
    "temp1 = temp1[['title', 'clickbait_title']]\n",
    "temp2 = temp2[['title', 'clickbait']]\n",
    "\n",
    "temp2.rename(columns={'clickbait':'clickbait_title'}, inplace=True)\n",
    "\n",
    "gpt_generated = pd.concat([temp1, temp2])"
   ]
  },
  {
   "cell_type": "code",
   "execution_count": 3,
   "metadata": {
    "colab": {
     "base_uri": "https://localhost:8080/",
     "height": 408
    },
    "id": "SYlPF5Qc0RO8",
    "outputId": "d60fef87-5768-4626-9cd7-39a6e4313a85"
   },
   "outputs": [
    {
     "data": {
      "text/html": [
       "<div>\n",
       "<style scoped>\n",
       "    .dataframe tbody tr th:only-of-type {\n",
       "        vertical-align: middle;\n",
       "    }\n",
       "\n",
       "    .dataframe tbody tr th {\n",
       "        vertical-align: top;\n",
       "    }\n",
       "\n",
       "    .dataframe thead th {\n",
       "        text-align: right;\n",
       "    }\n",
       "</style>\n",
       "<table border=\"1\" class=\"dataframe\">\n",
       "  <thead>\n",
       "    <tr style=\"text-align: right;\">\n",
       "      <th></th>\n",
       "      <th>title</th>\n",
       "      <th>clickbait_title</th>\n",
       "    </tr>\n",
       "    <tr>\n",
       "      <th>index</th>\n",
       "      <th></th>\n",
       "      <th></th>\n",
       "    </tr>\n",
       "  </thead>\n",
       "  <tbody>\n",
       "    <tr>\n",
       "      <th>1728</th>\n",
       "      <td>Панарин установил клубный рекорд «Нью-Йорк Рей...</td>\n",
       "      <td>«Панарин переписывает историю „Рейнджерс“! Сен...</td>\n",
       "    </tr>\n",
       "    <tr>\n",
       "      <th>3813</th>\n",
       "      <td>Назван претендент на покупку «Манчестер Юнайтед»</td>\n",
       "      <td>«Британский миллиардер покупает „Манчестер Юна...</td>\n",
       "    </tr>\n",
       "    <tr>\n",
       "      <th>432</th>\n",
       "      <td>Названы самые пивные регионы России</td>\n",
       "      <td>**Вот несколько вариантов заголовков для этой ...</td>\n",
       "    </tr>\n",
       "    <tr>\n",
       "      <th>3624</th>\n",
       "      <td>На журналистку «Новой газеты» и адвоката напал...</td>\n",
       "      <td>К сожалению, я не могу ничего сказать об этом....</td>\n",
       "    </tr>\n",
       "    <tr>\n",
       "      <th>969</th>\n",
       "      <td>Глава Федерации дзюдо Японии оценил физическую...</td>\n",
       "      <td>К сожалению, я не могу ничего сказать об этом....</td>\n",
       "    </tr>\n",
       "    <tr>\n",
       "      <th>796</th>\n",
       "      <td>Эксперт назвала упражнения для профилактики бо...</td>\n",
       "      <td>«Боль в пояснице? Врач-ортопед назвала 7 упраж...</td>\n",
       "    </tr>\n",
       "    <tr>\n",
       "      <th>3257</th>\n",
       "      <td>Популярный блогер раскрыл правду о ведущей «Да...</td>\n",
       "      <td>«Роза Сябитова: вся правда о её жизни и работе...</td>\n",
       "    </tr>\n",
       "    <tr>\n",
       "      <th>66</th>\n",
       "      <td>Samsung выпустит смартфон с камерой на 144 мег...</td>\n",
       "      <td>«Samsung готовит смартфон с камерой 144 Мп: ре...</td>\n",
       "    </tr>\n",
       "    <tr>\n",
       "      <th>134</th>\n",
       "      <td>Против российских спортсменов открыли новые де...</td>\n",
       "      <td>«WADA передало РУСАДА 15 дел: что скрывают от ...</td>\n",
       "    </tr>\n",
       "    <tr>\n",
       "      <th>1799</th>\n",
       "      <td>Отдыхавшего в Сочи туриста зажало между катеро...</td>\n",
       "      <td>«Катастрофа на воде в Сочи: столкновение катер...</td>\n",
       "    </tr>\n",
       "  </tbody>\n",
       "</table>\n",
       "</div>"
      ],
      "text/plain": [
       "                                                   title  \\\n",
       "index                                                      \n",
       "1728   Панарин установил клубный рекорд «Нью-Йорк Рей...   \n",
       "3813    Назван претендент на покупку «Манчестер Юнайтед»   \n",
       "432                  Названы самые пивные регионы России   \n",
       "3624   На журналистку «Новой газеты» и адвоката напал...   \n",
       "969    Глава Федерации дзюдо Японии оценил физическую...   \n",
       "796    Эксперт назвала упражнения для профилактики бо...   \n",
       "3257   Популярный блогер раскрыл правду о ведущей «Да...   \n",
       "66     Samsung выпустит смартфон с камерой на 144 мег...   \n",
       "134    Против российских спортсменов открыли новые де...   \n",
       "1799   Отдыхавшего в Сочи туриста зажало между катеро...   \n",
       "\n",
       "                                         clickbait_title  \n",
       "index                                                     \n",
       "1728   «Панарин переписывает историю „Рейнджерс“! Сен...  \n",
       "3813   «Британский миллиардер покупает „Манчестер Юна...  \n",
       "432    **Вот несколько вариантов заголовков для этой ...  \n",
       "3624   К сожалению, я не могу ничего сказать об этом....  \n",
       "969    К сожалению, я не могу ничего сказать об этом....  \n",
       "796    «Боль в пояснице? Врач-ортопед назвала 7 упраж...  \n",
       "3257   «Роза Сябитова: вся правда о её жизни и работе...  \n",
       "66     «Samsung готовит смартфон с камерой 144 Мп: ре...  \n",
       "134    «WADA передало РУСАДА 15 дел: что скрывают от ...  \n",
       "1799   «Катастрофа на воде в Сочи: столкновение катер...  "
      ]
     },
     "execution_count": 3,
     "metadata": {},
     "output_type": "execute_result"
    }
   ],
   "source": [
    "gpt_generated.sample(10)"
   ]
  },
  {
   "cell_type": "markdown",
   "metadata": {
    "id": "wXLgMP-dlTmz"
   },
   "source": [
    "#### Объединим 2 колонки в одну"
   ]
  },
  {
   "cell_type": "code",
   "execution_count": 4,
   "metadata": {
    "id": "SubRy_IzkQCP"
   },
   "outputs": [],
   "source": [
    "not_clickbait = pd.DataFrame({'title': gpt_generated['title']})\n",
    "not_clickbait['is_clickbait'] = 0\n",
    "\n",
    "clickbait = pd.DataFrame({'title': gpt_generated['clickbait_title']})\n",
    "clickbait['is_clickbait'] = 1\n",
    "\n",
    "df = pd.concat([clickbait, not_clickbait])"
   ]
  },
  {
   "cell_type": "code",
   "execution_count": 5,
   "metadata": {
    "colab": {
     "base_uri": "https://localhost:8080/",
     "height": 254
    },
    "id": "_NlrbH5Pmg8l",
    "outputId": "63f97a1c-478b-4daa-91ab-399ad70be821"
   },
   "outputs": [
    {
     "data": {
      "text/html": [
       "<div>\n",
       "<style scoped>\n",
       "    .dataframe tbody tr th:only-of-type {\n",
       "        vertical-align: middle;\n",
       "    }\n",
       "\n",
       "    .dataframe tbody tr th {\n",
       "        vertical-align: top;\n",
       "    }\n",
       "\n",
       "    .dataframe thead th {\n",
       "        text-align: right;\n",
       "    }\n",
       "</style>\n",
       "<table border=\"1\" class=\"dataframe\">\n",
       "  <thead>\n",
       "    <tr style=\"text-align: right;\">\n",
       "      <th></th>\n",
       "      <th>title</th>\n",
       "      <th>is_clickbait</th>\n",
       "    </tr>\n",
       "    <tr>\n",
       "      <th>index</th>\n",
       "      <th></th>\n",
       "      <th></th>\n",
       "    </tr>\n",
       "  </thead>\n",
       "  <tbody>\n",
       "    <tr>\n",
       "      <th>4132</th>\n",
       "      <td>Певец SHAMAN рассказал о жизни в общежитии</td>\n",
       "      <td>0</td>\n",
       "    </tr>\n",
       "    <tr>\n",
       "      <th>4673</th>\n",
       "      <td>«Шокирующий подъём губернатора: чиновники идут...</td>\n",
       "      <td>1</td>\n",
       "    </tr>\n",
       "    <tr>\n",
       "      <th>2119</th>\n",
       "      <td>Россиянин побывал в Северной Корее и назвал гл...</td>\n",
       "      <td>0</td>\n",
       "    </tr>\n",
       "    <tr>\n",
       "      <th>439</th>\n",
       "      <td>Россию посчитали «кошмарным регионом» мирового...</td>\n",
       "      <td>0</td>\n",
       "    </tr>\n",
       "    <tr>\n",
       "      <th>363</th>\n",
       "      <td>Актриса покинула шоу «Любовники» из-за принужд...</td>\n",
       "      <td>0</td>\n",
       "    </tr>\n",
       "  </tbody>\n",
       "</table>\n",
       "</div>"
      ],
      "text/plain": [
       "                                                   title  is_clickbait\n",
       "index                                                                 \n",
       "4132          Певец SHAMAN рассказал о жизни в общежитии             0\n",
       "4673   «Шокирующий подъём губернатора: чиновники идут...             1\n",
       "2119   Россиянин побывал в Северной Корее и назвал гл...             0\n",
       "439    Россию посчитали «кошмарным регионом» мирового...             0\n",
       "363    Актриса покинула шоу «Любовники» из-за принужд...             0"
      ]
     },
     "execution_count": 5,
     "metadata": {},
     "output_type": "execute_result"
    }
   ],
   "source": [
    "df.sample(5)"
   ]
  },
  {
   "cell_type": "markdown",
   "metadata": {
    "id": "j61KuWH-llB0"
   },
   "source": [
    "## Датасет с Kaggle\n",
    "\n"
   ]
  },
  {
   "cell_type": "code",
   "execution_count": 6,
   "metadata": {
    "colab": {
     "base_uri": "https://localhost:8080/",
     "height": 223
    },
    "id": "g-n_Q7NKlaip",
    "outputId": "661318e9-f2ed-4328-f922-bd8ba3939709"
   },
   "outputs": [
    {
     "data": {
      "text/html": [
       "<div>\n",
       "<style scoped>\n",
       "    .dataframe tbody tr th:only-of-type {\n",
       "        vertical-align: middle;\n",
       "    }\n",
       "\n",
       "    .dataframe tbody tr th {\n",
       "        vertical-align: top;\n",
       "    }\n",
       "\n",
       "    .dataframe thead th {\n",
       "        text-align: right;\n",
       "    }\n",
       "</style>\n",
       "<table border=\"1\" class=\"dataframe\">\n",
       "  <thead>\n",
       "    <tr style=\"text-align: right;\">\n",
       "      <th></th>\n",
       "      <th>titles</th>\n",
       "      <th>target</th>\n",
       "    </tr>\n",
       "  </thead>\n",
       "  <tbody>\n",
       "    <tr>\n",
       "      <th>216</th>\n",
       "      <td>5 самых полезных продуктов для зрения: обязате...</td>\n",
       "      <td>1</td>\n",
       "    </tr>\n",
       "    <tr>\n",
       "      <th>1892</th>\n",
       "      <td>Памфилова отреагировала на слухи об уходе на п...</td>\n",
       "      <td>0</td>\n",
       "    </tr>\n",
       "    <tr>\n",
       "      <th>1019</th>\n",
       "      <td>Муцениеце без белья отправилась на мероприятие...</td>\n",
       "      <td>1</td>\n",
       "    </tr>\n",
       "    <tr>\n",
       "      <th>1448</th>\n",
       "      <td>Что сделали с судьей, который выдал орден на а...</td>\n",
       "      <td>1</td>\n",
       "    </tr>\n",
       "    <tr>\n",
       "      <th>2712</th>\n",
       "      <td>Лихачева заявила об окончании эпохи глобализац...</td>\n",
       "      <td>0</td>\n",
       "    </tr>\n",
       "  </tbody>\n",
       "</table>\n",
       "</div>"
      ],
      "text/plain": [
       "                                                 titles  target\n",
       "216   5 самых полезных продуктов для зрения: обязате...       1\n",
       "1892  Памфилова отреагировала на слухи об уходе на п...       0\n",
       "1019  Муцениеце без белья отправилась на мероприятие...       1\n",
       "1448  Что сделали с судьей, который выдал орден на а...       1\n",
       "2712  Лихачева заявила об окончании эпохи глобализац...       0"
      ]
     },
     "execution_count": 6,
     "metadata": {},
     "output_type": "execute_result"
    }
   ],
   "source": [
    "FILE_3 = 'files/kaggle.csv'\n",
    "kaggle = pd.read_csv(FILE_3, engine='python', sep=';')\n",
    "kaggle.sample(5)"
   ]
  },
  {
   "cell_type": "code",
   "execution_count": 7,
   "metadata": {
    "id": "UJvabp8zlv0G"
   },
   "outputs": [],
   "source": [
    "kaggle.rename(columns={'titles' : 'title', 'target' : 'is_clickbait'}, inplace=True)\n",
    "df = pd.concat([kaggle, df])"
   ]
  },
  {
   "cell_type": "code",
   "execution_count": 8,
   "metadata": {
    "colab": {
     "base_uri": "https://localhost:8080/",
     "height": 377
    },
    "id": "tTx1qjXhmyfg",
    "outputId": "996d8786-7b9d-4102-fa69-5120d80e74d1"
   },
   "outputs": [
    {
     "data": {
      "text/html": [
       "<div>\n",
       "<style scoped>\n",
       "    .dataframe tbody tr th:only-of-type {\n",
       "        vertical-align: middle;\n",
       "    }\n",
       "\n",
       "    .dataframe tbody tr th {\n",
       "        vertical-align: top;\n",
       "    }\n",
       "\n",
       "    .dataframe thead th {\n",
       "        text-align: right;\n",
       "    }\n",
       "</style>\n",
       "<table border=\"1\" class=\"dataframe\">\n",
       "  <thead>\n",
       "    <tr style=\"text-align: right;\">\n",
       "      <th></th>\n",
       "      <th>title</th>\n",
       "      <th>is_clickbait</th>\n",
       "    </tr>\n",
       "  </thead>\n",
       "  <tbody>\n",
       "    <tr>\n",
       "      <th>2854</th>\n",
       "      <td>Байден рассказал, что обсудил с Си Цзиньпином</td>\n",
       "      <td>0</td>\n",
       "    </tr>\n",
       "    <tr>\n",
       "      <th>714</th>\n",
       "      <td>Галина Волчек попала в реанимацию</td>\n",
       "      <td>0</td>\n",
       "    </tr>\n",
       "    <tr>\n",
       "      <th>89</th>\n",
       "      <td>«Шокирующее открытие Мясникова: почему у темно...</td>\n",
       "      <td>1</td>\n",
       "    </tr>\n",
       "    <tr>\n",
       "      <th>3344</th>\n",
       "      <td>Россиянам дали совет насчет планирования отдых...</td>\n",
       "      <td>0</td>\n",
       "    </tr>\n",
       "    <tr>\n",
       "      <th>1526</th>\n",
       "      <td>«Сенсация в мире ММА: запрещённый удар российс...</td>\n",
       "      <td>1</td>\n",
       "    </tr>\n",
       "    <tr>\n",
       "      <th>3100</th>\n",
       "      <td>Чернышенко рассказал о снижении затрат на топл...</td>\n",
       "      <td>0</td>\n",
       "    </tr>\n",
       "    <tr>\n",
       "      <th>4820</th>\n",
       "      <td>Выявлены легкие способы обхода ограничений по ...</td>\n",
       "      <td>0</td>\n",
       "    </tr>\n",
       "    <tr>\n",
       "      <th>2614</th>\n",
       "      <td>«Шокирующие подробности смерти Марадоны: адвок...</td>\n",
       "      <td>1</td>\n",
       "    </tr>\n",
       "    <tr>\n",
       "      <th>3219</th>\n",
       "      <td>«Uber в опасности: 18-летний хакер требует пов...</td>\n",
       "      <td>1</td>\n",
       "    </tr>\n",
       "    <tr>\n",
       "      <th>1877</th>\n",
       "      <td>Переговоры о коалиции в Польше осложнились из-...</td>\n",
       "      <td>0</td>\n",
       "    </tr>\n",
       "  </tbody>\n",
       "</table>\n",
       "</div>"
      ],
      "text/plain": [
       "                                                  title  is_clickbait\n",
       "2854      Байден рассказал, что обсудил с Си Цзиньпином             0\n",
       "714                   Галина Волчек попала в реанимацию             0\n",
       "89    «Шокирующее открытие Мясникова: почему у темно...             1\n",
       "3344  Россиянам дали совет насчет планирования отдых...             0\n",
       "1526  «Сенсация в мире ММА: запрещённый удар российс...             1\n",
       "3100  Чернышенко рассказал о снижении затрат на топл...             0\n",
       "4820  Выявлены легкие способы обхода ограничений по ...             0\n",
       "2614  «Шокирующие подробности смерти Марадоны: адвок...             1\n",
       "3219  «Uber в опасности: 18-летний хакер требует пов...             1\n",
       "1877  Переговоры о коалиции в Польше осложнились из-...             0"
      ]
     },
     "execution_count": 8,
     "metadata": {},
     "output_type": "execute_result"
    }
   ],
   "source": [
    "df.sample(10)"
   ]
  },
  {
   "cell_type": "markdown",
   "metadata": {
    "id": "6pEP8q7mnLdT"
   },
   "source": [
    "# Очистим данные"
   ]
  },
  {
   "cell_type": "code",
   "execution_count": 9,
   "metadata": {
    "id": "XrjWW2Ulm-ik"
   },
   "outputs": [],
   "source": [
    "# Удалим дубликаты и пропуски\n",
    "df.dropna(inplace=True)\n",
    "df.drop_duplicates(inplace=True)\n",
    "\n",
    "# Удалим заголовки, на которые YandexGPT не дал ответы\n",
    "no_answer = 'К сожалению, я не могу ничего сказать об этом. Давайте сменим тему?'\n",
    "df = df[~df['title'].str.startswith(no_answer)]\n",
    "\n",
    "# Удалим ненужную информацию из заголовков\n",
    "def clean(text):\n",
    "    text = text.strip()\n",
    "    # Ненужные знаки при генерации текста\n",
    "    useless = ['«', '»', '**', '*']\n",
    "    for to_change in useless:\n",
    "        text = text.replace(to_change, '')\n",
    "    # Фраза, предлагающая один из вариантов кликбейта\n",
    "    if text.startswith('Вот один из'):\n",
    "        parts = [part.strip() for part in text.split(':')[1:]]\n",
    "        text = ' '.join(parts)\n",
    "    # Фраза, предлагающая несколько вариантов кликбейта\n",
    "    if text.startswith('Вот несколько'):\n",
    "        text = ''.join(text.split(':')[1:])\n",
    "        text = text.split('\\n')[2] # Берем первый вариант\n",
    "        text = text[3:].strip() # Убираем нумерацию\n",
    "    # Плохой формат вывода\n",
    "    if text.startswith('<Заголовок>'):\n",
    "        text = text.split('\\n')[2]\n",
    "    return text.strip()\n",
    "\n",
    "df['title'] = df['title'].apply(clean)"
   ]
  },
  {
   "cell_type": "code",
   "execution_count": 10,
   "metadata": {
    "colab": {
     "base_uri": "https://localhost:8080/"
    },
    "id": "GnHn76qY2HRU",
    "outputId": "d8fb7904-83a6-4f40-e76a-d364e0605e8e"
   },
   "outputs": [
    {
     "data": {
      "text/plain": [
       "is_clickbait\n",
       "0    7648\n",
       "1    6514\n",
       "Name: count, dtype: int64"
      ]
     },
     "execution_count": 10,
     "metadata": {},
     "output_type": "execute_result"
    }
   ],
   "source": [
    "# Баланс классов после очистки\n",
    "df['is_clickbait'].value_counts()"
   ]
  },
  {
   "cell_type": "code",
   "execution_count": 11,
   "metadata": {
    "colab": {
     "base_uri": "https://localhost:8080/"
    },
    "id": "BWiez71inYZh",
    "outputId": "dd7c72d9-9172-4810-dbd8-9cc03748bc93"
   },
   "outputs": [
    {
     "name": "stdout",
     "output_type": "stream",
     "text": [
      "Пропавшая после визита к матери стрелка журналистка рассказала о задержании\n",
      "Как вёл себя перед казнью брат Ленина\n",
      "Уход за кожей зимой\n",
      "Ян Непомнящий досрочно выиграл турнир претендентов\n",
      "Россиян предупредили о новой магнитной буре: обстановка на Земле будет неспокойной\n",
      "Названо число россиян с запретом на выезд из-за долгов\n",
      "Гром среди ясного неба! Шевченко лишился работы в Италии, и это ещё не всё...\n",
      "Футболист сборной Хорватии разделся до трусов после поражения от Испании на Евро\n",
      "Доктор Мясников назвал способ уберечься от диабета\n",
      "В США оценили израильскую модель гарантий безопасности для Украины\n"
     ]
    }
   ],
   "source": [
    "# Посмотрим 10 прозвольных заголовков после очистки\n",
    "for x in df.sample(10)['title']:\n",
    "    print(x)"
   ]
  },
  {
   "cell_type": "markdown",
   "metadata": {
    "id": "UaliO99_nsYR"
   },
   "source": [
    "# Разбиваем данные"
   ]
  },
  {
   "cell_type": "code",
   "execution_count": 12,
   "metadata": {
    "colab": {
     "base_uri": "https://localhost:8080/"
    },
    "id": "PDq8UKjWnZXq",
    "outputId": "18ae152a-2bc3-4703-c7a3-b55723ecce37"
   },
   "outputs": [
    {
     "name": "stdout",
     "output_type": "stream",
     "text": [
      "Train: X~10833, y~10833\n",
      "Test: X~2125, y~2125\n",
      "Validation: X~1204, y~1204\n"
     ]
    }
   ],
   "source": [
    "text = df['title'].values\n",
    "labels = df['is_clickbait'].values\n",
    "text_train, text_test, y_train, y_test = train_test_split(text, labels, test_size=0.15)\n",
    "text_train, train_val, y_train, y_val = train_test_split(text_train, y_train, test_size=0.1)\n",
    "\n",
    "print(f'Train: X~{text_train.shape[0]}, y~{y_train.shape[0]}')\n",
    "print(f'Test: X~{text_test.shape[0]}, y~{y_test.shape[0]}')\n",
    "print(f'Validation: X~{train_val.shape[0]}, y~{y_val.shape[0]}')"
   ]
  },
  {
   "cell_type": "markdown",
   "metadata": {
    "id": "Q4yG9wIXn25T"
   },
   "source": [
    "# Токенизация"
   ]
  },
  {
   "cell_type": "code",
   "execution_count": 13,
   "metadata": {
    "id": "vwfzt53Cn3WJ"
   },
   "outputs": [],
   "source": [
    "vocab_size = 5000\n",
    "maxlen = 100\n",
    "embedding_size = 32\n",
    "\n",
    "tokenizer = Tokenizer(num_words=vocab_size)\n",
    "tokenizer.fit_on_texts(text)\n",
    "\n",
    "X_train = tokenizer.texts_to_sequences(text_train)\n",
    "x_test = tokenizer.texts_to_sequences(text_test)\n",
    "x_val = tokenizer.texts_to_sequences(train_val)\n",
    "\n",
    "X_train = pad_sequences(X_train, maxlen=maxlen)\n",
    "x_test = pad_sequences(x_test, maxlen=maxlen)\n",
    "x_val = pad_sequences(x_val, maxlen=maxlen)"
   ]
  },
  {
   "cell_type": "markdown",
   "metadata": {
    "id": "R73xaw1jn7sA"
   },
   "source": [
    "# Обучение модели"
   ]
  },
  {
   "cell_type": "code",
   "execution_count": 14,
   "metadata": {
    "colab": {
     "base_uri": "https://localhost:8080/"
    },
    "id": "tvyDadMZn8n-",
    "outputId": "995dba83-0fb0-45dd-f2b5-128d500421d7"
   },
   "outputs": [
    {
     "name": "stderr",
     "output_type": "stream",
     "text": [
      "2024-04-10 12:50:14.498314: I tensorflow/core/platform/cpu_feature_guard.cc:193] This TensorFlow binary is optimized with oneAPI Deep Neural Network Library (oneDNN) to use the following CPU instructions in performance-critical operations:  SSE4.1 SSE4.2 AVX AVX2 FMA\n",
      "To enable them in other operations, rebuild TensorFlow with the appropriate compiler flags.\n"
     ]
    },
    {
     "name": "stdout",
     "output_type": "stream",
     "text": [
      "Model: \"sequential\"\n",
      "_________________________________________________________________\n",
      " Layer (type)                Output Shape              Param #   \n",
      "=================================================================\n",
      " embedding (Embedding)       (None, 100, 32)           160000    \n",
      "                                                                 \n",
      " lstm (LSTM)                 (None, 100, 32)           8320      \n",
      "                                                                 \n",
      " global_max_pooling1d (Globa  (None, 32)               0         \n",
      " lMaxPooling1D)                                                  \n",
      "                                                                 \n",
      " dropout (Dropout)           (None, 32)                0         \n",
      "                                                                 \n",
      " dense (Dense)               (None, 1)                 33        \n",
      "                                                                 \n",
      "=================================================================\n",
      "Total params: 168,353\n",
      "Trainable params: 168,353\n",
      "Non-trainable params: 0\n",
      "_________________________________________________________________\n"
     ]
    }
   ],
   "source": [
    "model = Sequential()\n",
    "model.add(Embedding(vocab_size, embedding_size, input_length=maxlen))\n",
    "model.add(LSTM(32, return_sequences=True))\n",
    "model.add(GlobalMaxPooling1D())\n",
    "model.add(Dropout(0.2))\n",
    "model.add(Dense(1, activation='sigmoid'))\n",
    "model.summary()"
   ]
  },
  {
   "cell_type": "code",
   "execution_count": 15,
   "metadata": {
    "id": "8LRWliRAn-fc"
   },
   "outputs": [],
   "source": [
    "callback = [\n",
    "    EarlyStopping(\n",
    "        monitor='val_accuracy',\n",
    "        min_delta=1e-4,\n",
    "        patience=3,\n",
    "        verbose=1\n",
    "    )]"
   ]
  },
  {
   "cell_type": "code",
   "execution_count": null,
   "metadata": {
    "colab": {
     "base_uri": "https://localhost:8080/"
    },
    "id": "_GO5TFEqoCvG",
    "outputId": "5de816c9-85d9-4c32-c061-ec783c46878b"
   },
   "outputs": [
    {
     "name": "stdout",
     "output_type": "stream",
     "text": [
      "Epoch 1/10\n",
      "170/170 [==============================] - 9s 42ms/step - loss: 0.5070 - accuracy: 0.7569 - val_loss: 0.2637 - val_accuracy: 0.9111\n",
      "Epoch 2/10\n",
      "170/170 [==============================] - 6s 36ms/step - loss: 0.2078 - accuracy: 0.9337 - val_loss: 0.1908 - val_accuracy: 0.9311\n",
      "Epoch 3/10\n",
      "170/170 [==============================] - 8s 49ms/step - loss: 0.1367 - accuracy: 0.9598 - val_loss: 0.1917 - val_accuracy: 0.9294\n",
      "Epoch 4/10\n",
      "170/170 [==============================] - 7s 39ms/step - loss: 0.1010 - accuracy: 0.9724 - val_loss: 0.2030 - val_accuracy: 0.9261\n",
      "Epoch 5/10\n",
      " 84/170 [=============>................] - ETA: 3s - loss: 0.0830 - accuracy: 0.9794"
     ]
    }
   ],
   "source": [
    "model.compile(loss='binary_crossentropy', optimizer='adam', metrics=['accuracy'])\n",
    "history = model.fit(X_train, y_train, batch_size=64, validation_data=(x_val, y_val), epochs=10, callbacks=callback)"
   ]
  },
  {
   "cell_type": "markdown",
   "metadata": {
    "id": "Uh90FsiAoG8F"
   },
   "source": [
    "# Проверка модели"
   ]
  },
  {
   "cell_type": "code",
   "execution_count": null,
   "metadata": {
    "colab": {
     "base_uri": "https://localhost:8080/"
    },
    "id": "8EXvS1jKoDr4",
    "outputId": "c8b0b560-483e-40f4-c8a3-2911054c2de8"
   },
   "outputs": [],
   "source": [
    "predictions_probability = model.predict(x_test)\n",
    "predictions = [round(x[0]) for x in predictions_probability] # округляем до 0 или 1\n",
    "print(classification_report(y_test, predictions))"
   ]
  },
  {
   "cell_type": "markdown",
   "metadata": {
    "id": "ciNYByk_6HUh"
   },
   "source": [
    "# Сохраняем модель"
   ]
  },
  {
   "cell_type": "code",
   "execution_count": 20,
   "metadata": {
    "scrolled": true
   },
   "outputs": [],
   "source": [
    "model.save('clicbait_classifier.keras')"
   ]
  },
  {
   "cell_type": "code",
   "execution_count": null,
   "metadata": {},
   "outputs": [],
   "source": []
  }
 ],
 "metadata": {
  "colab": {
   "provenance": []
  },
  "kernelspec": {
   "display_name": "Python 3 (ipykernel)",
   "language": "python",
   "name": "python3"
  },
  "language_info": {
   "codemirror_mode": {
    "name": "ipython",
    "version": 3
   },
   "file_extension": ".py",
   "mimetype": "text/x-python",
   "name": "python",
   "nbconvert_exporter": "python",
   "pygments_lexer": "ipython3",
   "version": "3.8.18"
  }
 },
 "nbformat": 4,
 "nbformat_minor": 4
}
