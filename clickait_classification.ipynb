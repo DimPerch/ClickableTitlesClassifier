{
 "cells": [
  {
   "cell_type": "markdown",
   "metadata": {
    "id": "PnBH4WfLjnzK"
   },
   "source": [
    "# Введение\n",
    "Цель данного ноутбука заключается в создании модели, способной отличать кликбейтные тексты от обычных."
   ]
  },
  {
   "cell_type": "markdown",
   "metadata": {
    "id": "FGGDlJEbjxjg"
   },
   "source": [
    "# Импортируем библиотеки"
   ]
  },
  {
   "cell_type": "code",
   "execution_count": 1,
   "metadata": {
    "id": "GxPG9Us8jx3B"
   },
   "outputs": [
    {
     "name": "stderr",
     "output_type": "stream",
     "text": [
      "2024-04-09 13:36:47.792766: I tensorflow/core/platform/cpu_feature_guard.cc:193] This TensorFlow binary is optimized with oneAPI Deep Neural Network Library (oneDNN) to use the following CPU instructions in performance-critical operations:  SSE4.1 SSE4.2 AVX AVX2 FMA\n",
      "To enable them in other operations, rebuild TensorFlow with the appropriate compiler flags.\n"
     ]
    }
   ],
   "source": [
    "import numpy as np\n",
    "import pandas as pd\n",
    "import matplotlib.pyplot as plt\n",
    "\n",
    "from sklearn.model_selection import train_test_split\n",
    "from sklearn.metrics import classification_report\n",
    "\n",
    "from tensorflow.keras.models import Sequential\n",
    "from tensorflow.keras.layers import Embedding, LSTM, Dense, Dropout, GlobalMaxPooling1D\n",
    "from tensorflow.keras.preprocessing.text import Tokenizer\n",
    "from tensorflow.keras.preprocessing.sequence import pad_sequences\n",
    "from tensorflow.keras.callbacks import ModelCheckpoint, EarlyStopping\n",
    "\n",
    "import warnings\n",
    "warnings.filterwarnings('ignore')"
   ]
  },
  {
   "cell_type": "markdown",
   "metadata": {
    "id": "JFtdzGEkj1J3"
   },
   "source": [
    "# Загружаем данные\n",
    "Мы рассматриваем 3 датасета *(один с kaggle, другие два сгенерированы с помощью YandexGPT)*"
   ]
  },
  {
   "cell_type": "markdown",
   "metadata": {
    "id": "Szoqb6m-likJ"
   },
   "source": [
    "## Датасеты сгенерированные с помощью YandexGPT\n",
    "Они были сгенерированы в разное время, поэтому их структура немного отличается друг от друга."
   ]
  },
  {
   "cell_type": "code",
   "execution_count": 2,
   "metadata": {
    "id": "czH9TKN1jzKl"
   },
   "outputs": [],
   "source": [
    "FILE_1 = 'files/yandexgpt_generated_1.csv'\n",
    "FILE_2 = 'files/yandexgpt_generated_2.csv'\n",
    "\n",
    "temp1 = pd.read_csv(FILE_1, index_col='index')\n",
    "temp2 = pd.read_csv(FILE_2, index_col='index')\n",
    "\n",
    "temp1 = temp1[['title', 'clickbait_title']]\n",
    "temp2 = temp2[['title', 'clickbait']]\n",
    "\n",
    "temp2.rename(columns={'clickbait':'clickbait_title'}, inplace=True)\n",
    "\n",
    "gpt_generated = pd.concat([temp1, temp2])"
   ]
  },
  {
   "cell_type": "code",
   "execution_count": 3,
   "metadata": {
    "colab": {
     "base_uri": "https://localhost:8080/",
     "height": 408
    },
    "id": "SYlPF5Qc0RO8",
    "outputId": "d60fef87-5768-4626-9cd7-39a6e4313a85"
   },
   "outputs": [
    {
     "data": {
      "text/html": [
       "<div>\n",
       "<style scoped>\n",
       "    .dataframe tbody tr th:only-of-type {\n",
       "        vertical-align: middle;\n",
       "    }\n",
       "\n",
       "    .dataframe tbody tr th {\n",
       "        vertical-align: top;\n",
       "    }\n",
       "\n",
       "    .dataframe thead th {\n",
       "        text-align: right;\n",
       "    }\n",
       "</style>\n",
       "<table border=\"1\" class=\"dataframe\">\n",
       "  <thead>\n",
       "    <tr style=\"text-align: right;\">\n",
       "      <th></th>\n",
       "      <th>title</th>\n",
       "      <th>clickbait_title</th>\n",
       "    </tr>\n",
       "    <tr>\n",
       "      <th>index</th>\n",
       "      <th></th>\n",
       "      <th></th>\n",
       "    </tr>\n",
       "  </thead>\n",
       "  <tbody>\n",
       "    <tr>\n",
       "      <th>1902</th>\n",
       "      <td>Россияне массово не захотели переезжать в четы...</td>\n",
       "      <td>«Четыре российских города, в которые лучше не ...</td>\n",
       "    </tr>\n",
       "    <tr>\n",
       "      <th>2886</th>\n",
       "      <td>Иностранные самолеты останутся в России вопрек...</td>\n",
       "      <td>К сожалению, я не могу ничего сказать об этом....</td>\n",
       "    </tr>\n",
       "    <tr>\n",
       "      <th>1804</th>\n",
       "      <td>Посольство России оценило вручение Пулитцеровс...</td>\n",
       "      <td>К сожалению, я не могу ничего сказать об этом....</td>\n",
       "    </tr>\n",
       "    <tr>\n",
       "      <th>4625</th>\n",
       "      <td>Роналду побил мировой рекорд по голам за сборную</td>\n",
       "      <td>**Криштиану Роналду вошёл в историю! Как Порту...</td>\n",
       "    </tr>\n",
       "    <tr>\n",
       "      <th>617</th>\n",
       "      <td>Россияне выбрали лучшие фильмы и сериалы года</td>\n",
       "      <td>Вот один из возможных вариантов заголовка:\\r\\n...</td>\n",
       "    </tr>\n",
       "    <tr>\n",
       "      <th>3096</th>\n",
       "      <td>Блогерша раскрыла секрет идеального завтрака и...</td>\n",
       "      <td>«Яичный сэндвич от @Ivycher — новый кулинарный...</td>\n",
       "    </tr>\n",
       "    <tr>\n",
       "      <th>4247</th>\n",
       "      <td>Названы основные способы мошенничества с жилье...</td>\n",
       "      <td>«Не открывайте дверь! Названы главные схемы мо...</td>\n",
       "    </tr>\n",
       "    <tr>\n",
       "      <th>3745</th>\n",
       "      <td>Совладелец WhatsApp заполучил особняк Синди Кр...</td>\n",
       "      <td>«Синди Кроуфорд рассталась с роскошным особняк...</td>\n",
       "    </tr>\n",
       "    <tr>\n",
       "      <th>3789</th>\n",
       "      <td>В России раскрыли масштабную аферу с IKEA посл...</td>\n",
       "      <td>«Шокирующая афера предпринимательницы из Ворон...</td>\n",
       "    </tr>\n",
       "    <tr>\n",
       "      <th>4969</th>\n",
       "      <td>Россиянка бюджетно отдохнула в Турции и посове...</td>\n",
       "      <td>«Эконом-отдых в Турции: россиянка делится чест...</td>\n",
       "    </tr>\n",
       "  </tbody>\n",
       "</table>\n",
       "</div>"
      ],
      "text/plain": [
       "                                                   title  \\\n",
       "index                                                      \n",
       "1902   Россияне массово не захотели переезжать в четы...   \n",
       "2886   Иностранные самолеты останутся в России вопрек...   \n",
       "1804   Посольство России оценило вручение Пулитцеровс...   \n",
       "4625    Роналду побил мировой рекорд по голам за сборную   \n",
       "617        Россияне выбрали лучшие фильмы и сериалы года   \n",
       "3096   Блогерша раскрыла секрет идеального завтрака и...   \n",
       "4247   Названы основные способы мошенничества с жилье...   \n",
       "3745   Совладелец WhatsApp заполучил особняк Синди Кр...   \n",
       "3789   В России раскрыли масштабную аферу с IKEA посл...   \n",
       "4969   Россиянка бюджетно отдохнула в Турции и посове...   \n",
       "\n",
       "                                         clickbait_title  \n",
       "index                                                     \n",
       "1902   «Четыре российских города, в которые лучше не ...  \n",
       "2886   К сожалению, я не могу ничего сказать об этом....  \n",
       "1804   К сожалению, я не могу ничего сказать об этом....  \n",
       "4625   **Криштиану Роналду вошёл в историю! Как Порту...  \n",
       "617    Вот один из возможных вариантов заголовка:\\r\\n...  \n",
       "3096   «Яичный сэндвич от @Ivycher — новый кулинарный...  \n",
       "4247   «Не открывайте дверь! Названы главные схемы мо...  \n",
       "3745   «Синди Кроуфорд рассталась с роскошным особняк...  \n",
       "3789   «Шокирующая афера предпринимательницы из Ворон...  \n",
       "4969   «Эконом-отдых в Турции: россиянка делится чест...  "
      ]
     },
     "execution_count": 3,
     "metadata": {},
     "output_type": "execute_result"
    }
   ],
   "source": [
    "gpt_generated.sample(10)"
   ]
  },
  {
   "cell_type": "markdown",
   "metadata": {
    "id": "wXLgMP-dlTmz"
   },
   "source": [
    "#### Объединим 2 колонки в одну"
   ]
  },
  {
   "cell_type": "code",
   "execution_count": 4,
   "metadata": {
    "id": "SubRy_IzkQCP"
   },
   "outputs": [],
   "source": [
    "not_clickbait = pd.DataFrame({'title': gpt_generated['title']})\n",
    "not_clickbait['is_clickbait'] = 0\n",
    "\n",
    "clickbait = pd.DataFrame({'title': gpt_generated['clickbait_title']})\n",
    "clickbait['is_clickbait'] = 1\n",
    "\n",
    "df = pd.concat([clickbait, not_clickbait])"
   ]
  },
  {
   "cell_type": "code",
   "execution_count": 5,
   "metadata": {
    "colab": {
     "base_uri": "https://localhost:8080/",
     "height": 254
    },
    "id": "_NlrbH5Pmg8l",
    "outputId": "63f97a1c-478b-4daa-91ab-399ad70be821"
   },
   "outputs": [
    {
     "data": {
      "text/html": [
       "<div>\n",
       "<style scoped>\n",
       "    .dataframe tbody tr th:only-of-type {\n",
       "        vertical-align: middle;\n",
       "    }\n",
       "\n",
       "    .dataframe tbody tr th {\n",
       "        vertical-align: top;\n",
       "    }\n",
       "\n",
       "    .dataframe thead th {\n",
       "        text-align: right;\n",
       "    }\n",
       "</style>\n",
       "<table border=\"1\" class=\"dataframe\">\n",
       "  <thead>\n",
       "    <tr style=\"text-align: right;\">\n",
       "      <th></th>\n",
       "      <th>title</th>\n",
       "      <th>is_clickbait</th>\n",
       "    </tr>\n",
       "    <tr>\n",
       "      <th>index</th>\n",
       "      <th></th>\n",
       "      <th></th>\n",
       "    </tr>\n",
       "  </thead>\n",
       "  <tbody>\n",
       "    <tr>\n",
       "      <th>4105</th>\n",
       "      <td>Названы самые популярные зарубежные направлени...</td>\n",
       "      <td>0</td>\n",
       "    </tr>\n",
       "    <tr>\n",
       "      <th>239</th>\n",
       "      <td>**Загадочная эпидемия: сотни людей оказались з...</td>\n",
       "      <td>1</td>\n",
       "    </tr>\n",
       "    <tr>\n",
       "      <th>2179</th>\n",
       "      <td>К сожалению, я не могу ничего сказать об этом....</td>\n",
       "      <td>1</td>\n",
       "    </tr>\n",
       "    <tr>\n",
       "      <th>237</th>\n",
       "      <td>«Мечтаете переехать в Испанию? Узнайте, жители...</td>\n",
       "      <td>1</td>\n",
       "    </tr>\n",
       "    <tr>\n",
       "      <th>513</th>\n",
       "      <td>«Краснодар» теряет ключевого игрока: что произ...</td>\n",
       "      <td>1</td>\n",
       "    </tr>\n",
       "  </tbody>\n",
       "</table>\n",
       "</div>"
      ],
      "text/plain": [
       "                                                   title  is_clickbait\n",
       "index                                                                 \n",
       "4105   Названы самые популярные зарубежные направлени...             0\n",
       "239    **Загадочная эпидемия: сотни людей оказались з...             1\n",
       "2179   К сожалению, я не могу ничего сказать об этом....             1\n",
       "237    «Мечтаете переехать в Испанию? Узнайте, жители...             1\n",
       "513    «Краснодар» теряет ключевого игрока: что произ...             1"
      ]
     },
     "execution_count": 5,
     "metadata": {},
     "output_type": "execute_result"
    }
   ],
   "source": [
    "df.sample(5)"
   ]
  },
  {
   "cell_type": "markdown",
   "metadata": {
    "id": "j61KuWH-llB0"
   },
   "source": [
    "## Датасет с Kaggle\n",
    "\n"
   ]
  },
  {
   "cell_type": "code",
   "execution_count": 6,
   "metadata": {
    "colab": {
     "base_uri": "https://localhost:8080/",
     "height": 223
    },
    "id": "g-n_Q7NKlaip",
    "outputId": "661318e9-f2ed-4328-f922-bd8ba3939709"
   },
   "outputs": [
    {
     "data": {
      "text/html": [
       "<div>\n",
       "<style scoped>\n",
       "    .dataframe tbody tr th:only-of-type {\n",
       "        vertical-align: middle;\n",
       "    }\n",
       "\n",
       "    .dataframe tbody tr th {\n",
       "        vertical-align: top;\n",
       "    }\n",
       "\n",
       "    .dataframe thead th {\n",
       "        text-align: right;\n",
       "    }\n",
       "</style>\n",
       "<table border=\"1\" class=\"dataframe\">\n",
       "  <thead>\n",
       "    <tr style=\"text-align: right;\">\n",
       "      <th></th>\n",
       "      <th>titles</th>\n",
       "      <th>target</th>\n",
       "    </tr>\n",
       "  </thead>\n",
       "  <tbody>\n",
       "    <tr>\n",
       "      <th>2218</th>\n",
       "      <td>Сотрудничество с Россией в космической отрасли...</td>\n",
       "      <td>0</td>\n",
       "    </tr>\n",
       "    <tr>\n",
       "      <th>1401</th>\n",
       "      <td>Глаз не оторвать: Толкалина показала откровенн...</td>\n",
       "      <td>1</td>\n",
       "    </tr>\n",
       "    <tr>\n",
       "      <th>2337</th>\n",
       "      <td>На Землю вернулась капсула с грунтом с астерои...</td>\n",
       "      <td>0</td>\n",
       "    </tr>\n",
       "    <tr>\n",
       "      <th>3087</th>\n",
       "      <td>СМИ: израильские банки начали сегрегировать сч...</td>\n",
       "      <td>0</td>\n",
       "    </tr>\n",
       "    <tr>\n",
       "      <th>2901</th>\n",
       "      <td>Израиль вынудит ХАМАС обменять пленных после в...</td>\n",
       "      <td>0</td>\n",
       "    </tr>\n",
       "  </tbody>\n",
       "</table>\n",
       "</div>"
      ],
      "text/plain": [
       "                                                 titles  target\n",
       "2218  Сотрудничество с Россией в космической отрасли...       0\n",
       "1401  Глаз не оторвать: Толкалина показала откровенн...       1\n",
       "2337  На Землю вернулась капсула с грунтом с астерои...       0\n",
       "3087  СМИ: израильские банки начали сегрегировать сч...       0\n",
       "2901  Израиль вынудит ХАМАС обменять пленных после в...       0"
      ]
     },
     "execution_count": 6,
     "metadata": {},
     "output_type": "execute_result"
    }
   ],
   "source": [
    "FILE_3 = 'files/kaggle.csv'\n",
    "kaggle = pd.read_csv(FILE_3, engine='python', sep=';')\n",
    "kaggle.sample(5)"
   ]
  },
  {
   "cell_type": "code",
   "execution_count": 7,
   "metadata": {
    "id": "UJvabp8zlv0G"
   },
   "outputs": [],
   "source": [
    "kaggle.rename(columns={'titles' : 'title', 'target' : 'is_clickbait'}, inplace=True)\n",
    "df = pd.concat([kaggle, df])"
   ]
  },
  {
   "cell_type": "code",
   "execution_count": 8,
   "metadata": {
    "colab": {
     "base_uri": "https://localhost:8080/",
     "height": 377
    },
    "id": "tTx1qjXhmyfg",
    "outputId": "996d8786-7b9d-4102-fa69-5120d80e74d1"
   },
   "outputs": [
    {
     "data": {
      "text/html": [
       "<div>\n",
       "<style scoped>\n",
       "    .dataframe tbody tr th:only-of-type {\n",
       "        vertical-align: middle;\n",
       "    }\n",
       "\n",
       "    .dataframe tbody tr th {\n",
       "        vertical-align: top;\n",
       "    }\n",
       "\n",
       "    .dataframe thead th {\n",
       "        text-align: right;\n",
       "    }\n",
       "</style>\n",
       "<table border=\"1\" class=\"dataframe\">\n",
       "  <thead>\n",
       "    <tr style=\"text-align: right;\">\n",
       "      <th></th>\n",
       "      <th>title</th>\n",
       "      <th>is_clickbait</th>\n",
       "    </tr>\n",
       "  </thead>\n",
       "  <tbody>\n",
       "    <tr>\n",
       "      <th>4152</th>\n",
       "      <td>Дачников призвали срочно раскидать кроличий на...</td>\n",
       "      <td>0</td>\n",
       "    </tr>\n",
       "    <tr>\n",
       "      <th>3153</th>\n",
       "      <td>Стало известно о резко подешевевших для россия...</td>\n",
       "      <td>0</td>\n",
       "    </tr>\n",
       "    <tr>\n",
       "      <th>988</th>\n",
       "      <td>**Алоэ — бесполезное и опасное для здоровья ра...</td>\n",
       "      <td>1</td>\n",
       "    </tr>\n",
       "    <tr>\n",
       "      <th>935</th>\n",
       "      <td>Признавшуюся в ненависти к Польше гимнастку на...</td>\n",
       "      <td>0</td>\n",
       "    </tr>\n",
       "    <tr>\n",
       "      <th>1791</th>\n",
       "      <td>Вяльбе рассказала о взятом Большуновым терапев...</td>\n",
       "      <td>0</td>\n",
       "    </tr>\n",
       "    <tr>\n",
       "      <th>440</th>\n",
       "      <td>Влияние нового сбора для туристов на стоимость...</td>\n",
       "      <td>0</td>\n",
       "    </tr>\n",
       "    <tr>\n",
       "      <th>3126</th>\n",
       "      <td>СМИ: послы стран ЕС планируют обсудить 12-й па...</td>\n",
       "      <td>0</td>\n",
       "    </tr>\n",
       "    <tr>\n",
       "      <th>2924</th>\n",
       "      <td>Девушка написала одно сообщение от лица сестры...</td>\n",
       "      <td>0</td>\n",
       "    </tr>\n",
       "    <tr>\n",
       "      <th>489</th>\n",
       "      <td>«Попрошайничество в отеле: как система „всё вк...</td>\n",
       "      <td>1</td>\n",
       "    </tr>\n",
       "    <tr>\n",
       "      <th>1380</th>\n",
       "      <td>«Жалкий вид»: фанаты прошлись по уехавшей Чулп...</td>\n",
       "      <td>1</td>\n",
       "    </tr>\n",
       "  </tbody>\n",
       "</table>\n",
       "</div>"
      ],
      "text/plain": [
       "                                                  title  is_clickbait\n",
       "4152  Дачников призвали срочно раскидать кроличий на...             0\n",
       "3153  Стало известно о резко подешевевших для россия...             0\n",
       "988   **Алоэ — бесполезное и опасное для здоровья ра...             1\n",
       "935   Признавшуюся в ненависти к Польше гимнастку на...             0\n",
       "1791  Вяльбе рассказала о взятом Большуновым терапев...             0\n",
       "440   Влияние нового сбора для туристов на стоимость...             0\n",
       "3126  СМИ: послы стран ЕС планируют обсудить 12-й па...             0\n",
       "2924  Девушка написала одно сообщение от лица сестры...             0\n",
       "489   «Попрошайничество в отеле: как система „всё вк...             1\n",
       "1380  «Жалкий вид»: фанаты прошлись по уехавшей Чулп...             1"
      ]
     },
     "execution_count": 8,
     "metadata": {},
     "output_type": "execute_result"
    }
   ],
   "source": [
    "df.sample(10)"
   ]
  },
  {
   "cell_type": "markdown",
   "metadata": {
    "id": "6pEP8q7mnLdT"
   },
   "source": [
    "# Очистим данные"
   ]
  },
  {
   "cell_type": "code",
   "execution_count": 9,
   "metadata": {
    "id": "XrjWW2Ulm-ik"
   },
   "outputs": [],
   "source": [
    "# Удалим дубликаты и пропуски\n",
    "df.dropna(inplace=True)\n",
    "df.drop_duplicates(inplace=True)\n",
    "\n",
    "# Удалим заголовки, на которые YandexGPT не дал ответы\n",
    "no_answer = 'К сожалению, я не могу ничего сказать об этом. Давайте сменим тему?'\n",
    "df = df[~df['title'].str.startswith(no_answer)]\n",
    "\n",
    "# Удалим ненужную информацию из заголовков\n",
    "def clean(text):\n",
    "    text = text.strip()\n",
    "    # Фраза предлагающая один из вариантов кликбейта\n",
    "    if text.startswith('Вот один из'):\n",
    "        parts = [part.strip() for part in text.split(':')[1:]]\n",
    "        text = ' '.join(parts)\n",
    "    # Фраза предлагающая несколько вариантов кликбейта\n",
    "    if text.startswith('Вот несколько'):\n",
    "        text = text.split(':')[1].strip()\n",
    "    # Ненужные знаки при генерации текста\n",
    "    useless = ['«', '»', '**', '*']\n",
    "    for to_change in useless:\n",
    "        text = text.replace(to_change, '')\n",
    "    return text\n",
    "\n",
    "df['title'] = df['title'].apply(clean)"
   ]
  },
  {
   "cell_type": "code",
   "execution_count": 10,
   "metadata": {
    "colab": {
     "base_uri": "https://localhost:8080/"
    },
    "id": "GnHn76qY2HRU",
    "outputId": "d8fb7904-83a6-4f40-e76a-d364e0605e8e"
   },
   "outputs": [
    {
     "data": {
      "text/plain": [
       "is_clickbait\n",
       "0    7529\n",
       "1    6395\n",
       "Name: count, dtype: int64"
      ]
     },
     "execution_count": 10,
     "metadata": {},
     "output_type": "execute_result"
    }
   ],
   "source": [
    "# Баланс классов после очистки\n",
    "df['is_clickbait'].value_counts()"
   ]
  },
  {
   "cell_type": "code",
   "execution_count": 11,
   "metadata": {
    "colab": {
     "base_uri": "https://localhost:8080/"
    },
    "id": "BWiez71inYZh",
    "outputId": "dd7c72d9-9172-4810-dbd8-9cc03748bc93"
   },
   "outputs": [
    {
     "name": "stdout",
     "output_type": "stream",
     "text": [
      "Пенсии повысят еще на 20%. Пенсионерам объявили о приятном сюрпризе\n",
      "Девушка взглянула на мусорное ведро бойфренда и заподозрила его в измене\n",
      "Нурмагомедов уходит из MMA: что ждёт непобеждённого чемпиона в боксе?\n",
      "Браво в Новый год: хиты легендарной группы, танцы до утра и фуршет в подарок!\n",
      "В России рассказали о нехватке мест для детей из-за человейников\n",
      "Легендарный советский легкоатлет ушёл из жизни: что стало причиной трагедии?\n",
      "Петр Ян объяснил запрещенный удар в бое за титул UFC\n",
      "К журналистке пришли с обыском и увезли ее в неизвестном направлении\n",
      "Овечкин пропустит чемпионат мира по хоккею\n",
      "В Ахмате прокомментировали слова Кадырова о Нурмагомедове\n"
     ]
    }
   ],
   "source": [
    "# Посмотрим 10 прозвольных заголовков после очистки\n",
    "for x in df.sample(10)['title']:\n",
    "    print(x)"
   ]
  },
  {
   "cell_type": "markdown",
   "metadata": {
    "id": "UaliO99_nsYR"
   },
   "source": [
    "# Разбиваем данные"
   ]
  },
  {
   "cell_type": "code",
   "execution_count": 13,
   "metadata": {
    "colab": {
     "base_uri": "https://localhost:8080/"
    },
    "id": "PDq8UKjWnZXq",
    "outputId": "18ae152a-2bc3-4703-c7a3-b55723ecce37"
   },
   "outputs": [
    {
     "name": "stdout",
     "output_type": "stream",
     "text": [
      "Train: X~10651, y~10651\n",
      "Test: X~2089, y~2089\n",
      "Validation: X~1184, y~1184\n"
     ]
    }
   ],
   "source": [
    "text = df['title'].values\n",
    "labels = df['is_clickbait'].values\n",
    "text_train, text_test, y_train, y_test = train_test_split(text, labels, test_size=0.15)\n",
    "text_train, train_val, y_train, y_val = train_test_split(text_train, y_train, test_size=0.1)\n",
    "\n",
    "print(f'Train: X~{text_train.shape[0]}, y~{y_train.shape[0]}')\n",
    "print(f'Test: X~{text_test.shape[0]}, y~{y_test.shape[0]}')\n",
    "print(f'Validation: X~{train_val.shape[0]}, y~{y_val.shape[0]}')"
   ]
  },
  {
   "cell_type": "markdown",
   "metadata": {
    "id": "Q4yG9wIXn25T"
   },
   "source": [
    "# Токенизация"
   ]
  },
  {
   "cell_type": "code",
   "execution_count": 14,
   "metadata": {
    "id": "vwfzt53Cn3WJ"
   },
   "outputs": [],
   "source": [
    "vocab_size = 5000\n",
    "maxlen = 100\n",
    "embedding_size = 32\n",
    "\n",
    "tokenizer = Tokenizer(num_words=vocab_size)\n",
    "tokenizer.fit_on_texts(text)\n",
    "\n",
    "X_train = tokenizer.texts_to_sequences(text_train)\n",
    "x_test = tokenizer.texts_to_sequences(text_test)\n",
    "x_val = tokenizer.texts_to_sequences(train_val)\n",
    "\n",
    "X_train = pad_sequences(X_train, maxlen=maxlen)\n",
    "x_test = pad_sequences(x_test, maxlen=maxlen)\n",
    "x_val = pad_sequences(x_val, maxlen=maxlen)"
   ]
  },
  {
   "cell_type": "markdown",
   "metadata": {
    "id": "R73xaw1jn7sA"
   },
   "source": [
    "# Обучение модели"
   ]
  },
  {
   "cell_type": "code",
   "execution_count": 15,
   "metadata": {
    "colab": {
     "base_uri": "https://localhost:8080/"
    },
    "id": "tvyDadMZn8n-",
    "outputId": "995dba83-0fb0-45dd-f2b5-128d500421d7"
   },
   "outputs": [
    {
     "name": "stderr",
     "output_type": "stream",
     "text": [
      "2024-04-09 13:37:31.515164: I tensorflow/core/platform/cpu_feature_guard.cc:193] This TensorFlow binary is optimized with oneAPI Deep Neural Network Library (oneDNN) to use the following CPU instructions in performance-critical operations:  SSE4.1 SSE4.2 AVX AVX2 FMA\n",
      "To enable them in other operations, rebuild TensorFlow with the appropriate compiler flags.\n"
     ]
    },
    {
     "name": "stdout",
     "output_type": "stream",
     "text": [
      "Model: \"sequential\"\n",
      "_________________________________________________________________\n",
      " Layer (type)                Output Shape              Param #   \n",
      "=================================================================\n",
      " embedding (Embedding)       (None, 100, 32)           160000    \n",
      "                                                                 \n",
      " lstm (LSTM)                 (None, 100, 32)           8320      \n",
      "                                                                 \n",
      " global_max_pooling1d (Globa  (None, 32)               0         \n",
      " lMaxPooling1D)                                                  \n",
      "                                                                 \n",
      " dropout (Dropout)           (None, 32)                0         \n",
      "                                                                 \n",
      " dense (Dense)               (None, 1)                 33        \n",
      "                                                                 \n",
      "=================================================================\n",
      "Total params: 168,353\n",
      "Trainable params: 168,353\n",
      "Non-trainable params: 0\n",
      "_________________________________________________________________\n"
     ]
    }
   ],
   "source": [
    "model = Sequential()\n",
    "model.add(Embedding(vocab_size, embedding_size, input_length=maxlen))\n",
    "model.add(LSTM(32, return_sequences=True))\n",
    "model.add(GlobalMaxPooling1D())\n",
    "model.add(Dropout(0.2))\n",
    "model.add(Dense(1, activation='sigmoid'))\n",
    "model.summary()"
   ]
  },
  {
   "cell_type": "code",
   "execution_count": 16,
   "metadata": {
    "id": "8LRWliRAn-fc"
   },
   "outputs": [],
   "source": [
    "callback = [\n",
    "    EarlyStopping(\n",
    "        monitor='val_accuracy',\n",
    "        min_delta=1e-4,\n",
    "        patience=3,\n",
    "        verbose=1\n",
    "    )]"
   ]
  },
  {
   "cell_type": "code",
   "execution_count": 17,
   "metadata": {
    "colab": {
     "base_uri": "https://localhost:8080/"
    },
    "id": "_GO5TFEqoCvG",
    "outputId": "5de816c9-85d9-4c32-c061-ec783c46878b"
   },
   "outputs": [
    {
     "name": "stdout",
     "output_type": "stream",
     "text": [
      "Epoch 1/10\n",
      "167/167 [==============================] - 9s 43ms/step - loss: 0.6385 - accuracy: 0.6777 - val_loss: 0.4671 - val_accuracy: 0.8970\n",
      "Epoch 2/10\n",
      "167/167 [==============================] - 7s 43ms/step - loss: 0.3036 - accuracy: 0.9154 - val_loss: 0.2119 - val_accuracy: 0.9350\n",
      "Epoch 3/10\n",
      "167/167 [==============================] - 7s 40ms/step - loss: 0.1650 - accuracy: 0.9516 - val_loss: 0.1848 - val_accuracy: 0.9367\n",
      "Epoch 4/10\n",
      "167/167 [==============================] - 6s 38ms/step - loss: 0.1155 - accuracy: 0.9684 - val_loss: 0.1850 - val_accuracy: 0.9358\n",
      "Epoch 5/10\n",
      "167/167 [==============================] - 6s 37ms/step - loss: 0.0876 - accuracy: 0.9771 - val_loss: 0.2092 - val_accuracy: 0.9248\n",
      "Epoch 6/10\n",
      "167/167 [==============================] - 8s 45ms/step - loss: 0.0721 - accuracy: 0.9835 - val_loss: 0.2198 - val_accuracy: 0.9299\n",
      "Epoch 6: early stopping\n"
     ]
    }
   ],
   "source": [
    "model.compile(loss='binary_crossentropy', optimizer='adam', metrics=['accuracy'])\n",
    "history = model.fit(X_train, y_train, batch_size=64, validation_data=(x_val, y_val), epochs=10, callbacks=callback)"
   ]
  },
  {
   "cell_type": "markdown",
   "metadata": {
    "id": "Uh90FsiAoG8F"
   },
   "source": [
    "# Проверка модели"
   ]
  },
  {
   "cell_type": "code",
   "execution_count": 19,
   "metadata": {
    "colab": {
     "base_uri": "https://localhost:8080/"
    },
    "id": "8EXvS1jKoDr4",
    "outputId": "c8b0b560-483e-40f4-c8a3-2911054c2de8"
   },
   "outputs": [
    {
     "name": "stdout",
     "output_type": "stream",
     "text": [
      "66/66 [==============================] - 1s 7ms/step\n",
      "              precision    recall  f1-score   support\n",
      "\n",
      "           0       0.92      0.92      0.92      1132\n",
      "           1       0.91      0.91      0.91       957\n",
      "\n",
      "    accuracy                           0.92      2089\n",
      "   macro avg       0.92      0.92      0.92      2089\n",
      "weighted avg       0.92      0.92      0.92      2089\n",
      "\n"
     ]
    }
   ],
   "source": [
    "predictions_probability = model.predict(x_test)\n",
    "predictions = [round(x[0]) for x in predictions_probability] # округляем до 0 или 1\n",
    "print(classification_report(y_test, predictions))"
   ]
  },
  {
   "cell_type": "markdown",
   "metadata": {
    "id": "ciNYByk_6HUh"
   },
   "source": [
    "# Сохраняем модель"
   ]
  },
  {
   "cell_type": "code",
   "execution_count": 20,
   "metadata": {
    "scrolled": true
   },
   "outputs": [],
   "source": [
    "model.save('clicbait_classifier.keras')"
   ]
  },
  {
   "cell_type": "code",
   "execution_count": null,
   "metadata": {},
   "outputs": [],
   "source": []
  }
 ],
 "metadata": {
  "colab": {
   "provenance": []
  },
  "kernelspec": {
   "display_name": "Python 3 (ipykernel)",
   "language": "python",
   "name": "python3"
  },
  "language_info": {
   "codemirror_mode": {
    "name": "ipython",
    "version": 3
   },
   "file_extension": ".py",
   "mimetype": "text/x-python",
   "name": "python",
   "nbconvert_exporter": "python",
   "pygments_lexer": "ipython3",
   "version": "3.8.18"
  }
 },
 "nbformat": 4,
 "nbformat_minor": 4
}
