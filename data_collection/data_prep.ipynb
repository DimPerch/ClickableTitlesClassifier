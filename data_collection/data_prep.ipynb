{
 "cells": [
  {
   "cell_type": "code",
   "execution_count": 1,
   "id": "initial_id",
   "metadata": {
    "collapsed": true,
    "ExecuteTime": {
     "end_time": "2024-04-10T07:41:40.331375600Z",
     "start_time": "2024-04-10T07:41:38.777182100Z"
    }
   },
   "outputs": [],
   "source": [
    "import pandas as pd"
   ]
  },
  {
   "cell_type": "code",
   "outputs": [
    {
     "data": {
      "text/plain": "                                               title           topic  \\\n0  Российские биатлонистки провели худшую гонку в...           Спорт   \n1  Москвичи перехотели покупать недвижимость в но...  Среда обитания   \n2  Сломавшую ногу на горе в Сочи россиянку эвакуи...     Путешествия   \n3  Стали известны подробности обвинения в адрес ж...  Интернет и СМИ   \n\n                                                text  \n0  Российские биатлонистки остались без медалей в...  \n1  В Москве зафиксировали резкое снижение числа с...  \n2  Россиянка, сломавшая ногу на горе в Сочи, была...  \n3  Журналистку Александру Баязитову обвинили в вы...  ",
      "text/html": "<div>\n<style scoped>\n    .dataframe tbody tr th:only-of-type {\n        vertical-align: middle;\n    }\n\n    .dataframe tbody tr th {\n        vertical-align: top;\n    }\n\n    .dataframe thead th {\n        text-align: right;\n    }\n</style>\n<table border=\"1\" class=\"dataframe\">\n  <thead>\n    <tr style=\"text-align: right;\">\n      <th></th>\n      <th>title</th>\n      <th>topic</th>\n      <th>text</th>\n    </tr>\n  </thead>\n  <tbody>\n    <tr>\n      <th>0</th>\n      <td>Российские биатлонистки провели худшую гонку в...</td>\n      <td>Спорт</td>\n      <td>Российские биатлонистки остались без медалей в...</td>\n    </tr>\n    <tr>\n      <th>1</th>\n      <td>Москвичи перехотели покупать недвижимость в но...</td>\n      <td>Среда обитания</td>\n      <td>В Москве зафиксировали резкое снижение числа с...</td>\n    </tr>\n    <tr>\n      <th>2</th>\n      <td>Сломавшую ногу на горе в Сочи россиянку эвакуи...</td>\n      <td>Путешествия</td>\n      <td>Россиянка, сломавшая ногу на горе в Сочи, была...</td>\n    </tr>\n    <tr>\n      <th>3</th>\n      <td>Стали известны подробности обвинения в адрес ж...</td>\n      <td>Интернет и СМИ</td>\n      <td>Журналистку Александру Баязитову обвинили в вы...</td>\n    </tr>\n  </tbody>\n</table>\n</div>"
     },
     "execution_count": 2,
     "metadata": {},
     "output_type": "execute_result"
    }
   ],
   "source": [
    "text_for_gpt = pd.read_csv('data_for_gpt.csv')\n",
    "text_for_gpt.head(4)"
   ],
   "metadata": {
    "collapsed": false,
    "ExecuteTime": {
     "end_time": "2024-04-10T07:41:43.332876100Z",
     "start_time": "2024-04-10T07:41:40.328059400Z"
    }
   },
   "id": "28a658a510b928db",
   "execution_count": 2
  },
  {
   "cell_type": "code",
   "outputs": [
    {
     "data": {
      "text/plain": "                                               title           topic  \\\n0  Российские биатлонистки провели худшую гонку в...           Спорт   \n1  Москвичи перехотели покупать недвижимость в но...  Среда обитания   \n2  Сломавшую ногу на горе в Сочи россиянку эвакуи...     Путешествия   \n\n                                                text  \n0  Российские биатлонистки остались без медалей в...  \n1  В Москве зафиксировали резкое снижение числа с...  \n2  Россиянка, сломавшая ногу на горе в Сочи, была...  ",
      "text/html": "<div>\n<style scoped>\n    .dataframe tbody tr th:only-of-type {\n        vertical-align: middle;\n    }\n\n    .dataframe tbody tr th {\n        vertical-align: top;\n    }\n\n    .dataframe thead th {\n        text-align: right;\n    }\n</style>\n<table border=\"1\" class=\"dataframe\">\n  <thead>\n    <tr style=\"text-align: right;\">\n      <th></th>\n      <th>title</th>\n      <th>topic</th>\n      <th>text</th>\n    </tr>\n  </thead>\n  <tbody>\n    <tr>\n      <th>0</th>\n      <td>Российские биатлонистки провели худшую гонку в...</td>\n      <td>Спорт</td>\n      <td>Российские биатлонистки остались без медалей в...</td>\n    </tr>\n    <tr>\n      <th>1</th>\n      <td>Москвичи перехотели покупать недвижимость в но...</td>\n      <td>Среда обитания</td>\n      <td>В Москве зафиксировали резкое снижение числа с...</td>\n    </tr>\n    <tr>\n      <th>2</th>\n      <td>Сломавшую ногу на горе в Сочи россиянку эвакуи...</td>\n      <td>Путешествия</td>\n      <td>Россиянка, сломавшая ногу на горе в Сочи, была...</td>\n    </tr>\n  </tbody>\n</table>\n</div>"
     },
     "execution_count": 3,
     "metadata": {},
     "output_type": "execute_result"
    }
   ],
   "source": [
    "text_for_gpt[0:3]"
   ],
   "metadata": {
    "collapsed": false,
    "ExecuteTime": {
     "end_time": "2024-04-10T07:41:43.402727600Z",
     "start_time": "2024-04-10T07:41:43.344294200Z"
    }
   },
   "id": "a51a4ce673fd32d7",
   "execution_count": 3
  },
  {
   "cell_type": "code",
   "outputs": [],
   "source": [
    "for i in range(10):\n",
    "    text_for_gpt[i*5000:(i+1)*5000].to_csv(f'./data_portioned/data_{i}.csv')"
   ],
   "metadata": {
    "collapsed": false,
    "ExecuteTime": {
     "end_time": "2024-04-10T07:41:47.621105300Z",
     "start_time": "2024-04-10T07:41:43.359163700Z"
    }
   },
   "id": "f76707a763c1ca5a",
   "execution_count": 4
  },
  {
   "cell_type": "code",
   "outputs": [],
   "source": [],
   "metadata": {
    "collapsed": false,
    "ExecuteTime": {
     "end_time": "2024-04-10T07:41:47.637574400Z",
     "start_time": "2024-04-10T07:41:47.626542300Z"
    }
   },
   "id": "1144b623c1e03e7",
   "execution_count": 4
  }
 ],
 "metadata": {
  "kernelspec": {
   "display_name": "Python 3",
   "language": "python",
   "name": "python3"
  },
  "language_info": {
   "codemirror_mode": {
    "name": "ipython",
    "version": 2
   },
   "file_extension": ".py",
   "mimetype": "text/x-python",
   "name": "python",
   "nbconvert_exporter": "python",
   "pygments_lexer": "ipython2",
   "version": "2.7.6"
  }
 },
 "nbformat": 4,
 "nbformat_minor": 5
}
