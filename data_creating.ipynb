{
 "cells": [
  {
   "cell_type": "code",
   "execution_count": 1,
   "id": "initial_id",
   "metadata": {
    "collapsed": true,
    "ExecuteTime": {
     "end_time": "2024-04-07T16:30:33.503108500Z",
     "start_time": "2024-04-07T16:30:32.029053Z"
    }
   },
   "outputs": [],
   "source": [
    "import pandas as pd"
   ]
  },
  {
   "cell_type": "code",
   "outputs": [],
   "source": [
    "title_df = pd.read_csv('./data_download/titles.csv')\n",
    "news_df = pd.read_csv('./data_download/news_filtered.csv').head(1000)"
   ],
   "metadata": {
    "collapsed": false,
    "ExecuteTime": {
     "end_time": "2024-04-06T19:39:46.388610700Z",
     "start_time": "2024-04-06T19:39:45.255220400Z"
    }
   },
   "id": "477688fff93f651e",
   "execution_count": 6
  },
  {
   "cell_type": "code",
   "outputs": [
    {
     "data": {
      "text/plain": "                                                 title\n0    К сожалению, я не могу ничего сказать об этом....\n1    **Эксклюзив: почему PREMIER удалил пятую серию...\n2    «Сын Валерии попал в третью аварию за неделю: ...\n3    «Тоттенхэм» прервал беспроигрышную серию «Вулв...\n4    «Чай при простуде: сенсационное разоблачение! ...\n..                                                 ...\n995  К сожалению, я не могу ничего сказать об этом....\n996  «Лисица и яблоки» против всего мира: откровенн...\n997  К сожалению, я не могу ничего сказать об этом....\n998  «Сенсация в АПЛ: \"Саутгемптон\" сыграл вничью с...\n999  «Apple украл революционную технологию отслежив...\n\n[1000 rows x 1 columns]",
      "text/html": "<div>\n<style scoped>\n    .dataframe tbody tr th:only-of-type {\n        vertical-align: middle;\n    }\n\n    .dataframe tbody tr th {\n        vertical-align: top;\n    }\n\n    .dataframe thead th {\n        text-align: right;\n    }\n</style>\n<table border=\"1\" class=\"dataframe\">\n  <thead>\n    <tr style=\"text-align: right;\">\n      <th></th>\n      <th>title</th>\n    </tr>\n  </thead>\n  <tbody>\n    <tr>\n      <th>0</th>\n      <td>К сожалению, я не могу ничего сказать об этом....</td>\n    </tr>\n    <tr>\n      <th>1</th>\n      <td>**Эксклюзив: почему PREMIER удалил пятую серию...</td>\n    </tr>\n    <tr>\n      <th>2</th>\n      <td>«Сын Валерии попал в третью аварию за неделю: ...</td>\n    </tr>\n    <tr>\n      <th>3</th>\n      <td>«Тоттенхэм» прервал беспроигрышную серию «Вулв...</td>\n    </tr>\n    <tr>\n      <th>4</th>\n      <td>«Чай при простуде: сенсационное разоблачение! ...</td>\n    </tr>\n    <tr>\n      <th>...</th>\n      <td>...</td>\n    </tr>\n    <tr>\n      <th>995</th>\n      <td>К сожалению, я не могу ничего сказать об этом....</td>\n    </tr>\n    <tr>\n      <th>996</th>\n      <td>«Лисица и яблоки» против всего мира: откровенн...</td>\n    </tr>\n    <tr>\n      <th>997</th>\n      <td>К сожалению, я не могу ничего сказать об этом....</td>\n    </tr>\n    <tr>\n      <th>998</th>\n      <td>«Сенсация в АПЛ: \"Саутгемптон\" сыграл вничью с...</td>\n    </tr>\n    <tr>\n      <th>999</th>\n      <td>«Apple украл революционную технологию отслежив...</td>\n    </tr>\n  </tbody>\n</table>\n<p>1000 rows × 1 columns</p>\n</div>"
     },
     "execution_count": 7,
     "metadata": {},
     "output_type": "execute_result"
    }
   ],
   "source": [
    "title_df"
   ],
   "metadata": {
    "collapsed": false,
    "ExecuteTime": {
     "end_time": "2024-04-06T19:39:47.207112700Z",
     "start_time": "2024-04-06T19:39:47.179206600Z"
    }
   },
   "id": "48c67b44c80d9bec",
   "execution_count": 7
  },
  {
   "cell_type": "code",
   "outputs": [],
   "source": [
    "news_df['clickbait_title'] = title_df"
   ],
   "metadata": {
    "collapsed": false,
    "ExecuteTime": {
     "end_time": "2024-04-06T19:40:17.647934500Z",
     "start_time": "2024-04-06T19:40:17.620239500Z"
    }
   },
   "id": "13c577cc78d46088",
   "execution_count": 9
  },
  {
   "cell_type": "code",
   "outputs": [],
   "source": [
    "news_df = news_df[['text', 'title', 'clickbait_title']]"
   ],
   "metadata": {
    "collapsed": false,
    "ExecuteTime": {
     "end_time": "2024-04-06T19:40:54.599201300Z",
     "start_time": "2024-04-06T19:40:54.577740Z"
    }
   },
   "id": "e4f36c0f17c17e12",
   "execution_count": 11
  },
  {
   "cell_type": "code",
   "outputs": [],
   "source": [
    "news_df.to_csv('data.csv')"
   ],
   "metadata": {
    "collapsed": false,
    "ExecuteTime": {
     "end_time": "2024-04-06T19:41:20.770397400Z",
     "start_time": "2024-04-06T19:41:20.671613200Z"
    }
   },
   "id": "a8ec12c079d7449d",
   "execution_count": 13
  },
  {
   "cell_type": "code",
   "outputs": [
    {
     "data": {
      "text/plain": "                                                 title  \\\n0    Украинская ЛГБТ-активистка обвинила ню-фотогра...   \n1    Онлайн-кинотеатр вырезал «расстрел» мирных рос...   \n2          Сын Валерии попал в третью аварию за неделю   \n3    «Тоттенхэм» прервал 11-матчевую беспроигрышную...   \n4    Развенчан миф о пользе горячего чая при высоко...   \n..                                                 ...   \n995  В России научились продавать алкоголь в интернете   \n996  Пышная девушка рассказала о трудностях жизни п...   \n997  Netflix столкнулся с бойкотом из-за комедии пр...   \n998  «Кристал Пэлас» и «Саутгемптон» сыграли вничью...   \n999  Кардиолог подал в суд на Apple из-за способа и...   \n\n                                       clickbait_title  \n0    К сожалению, я не могу ничего сказать об этом....  \n1    **Эксклюзив: почему PREMIER удалил пятую серию...  \n2    «Сын Валерии попал в третью аварию за неделю: ...  \n3    «Тоттенхэм» прервал беспроигрышную серию «Вулв...  \n4    «Чай при простуде: сенсационное разоблачение! ...  \n..                                                 ...  \n995  К сожалению, я не могу ничего сказать об этом....  \n996  «Лисица и яблоки» против всего мира: откровенн...  \n997  К сожалению, я не могу ничего сказать об этом....  \n998  «Сенсация в АПЛ: \"Саутгемптон\" сыграл вничью с...  \n999  «Apple украл революционную технологию отслежив...  \n\n[1000 rows x 2 columns]",
      "text/html": "<div>\n<style scoped>\n    .dataframe tbody tr th:only-of-type {\n        vertical-align: middle;\n    }\n\n    .dataframe tbody tr th {\n        vertical-align: top;\n    }\n\n    .dataframe thead th {\n        text-align: right;\n    }\n</style>\n<table border=\"1\" class=\"dataframe\">\n  <thead>\n    <tr style=\"text-align: right;\">\n      <th></th>\n      <th>title</th>\n      <th>clickbait_title</th>\n    </tr>\n  </thead>\n  <tbody>\n    <tr>\n      <th>0</th>\n      <td>Украинская ЛГБТ-активистка обвинила ню-фотогра...</td>\n      <td>К сожалению, я не могу ничего сказать об этом....</td>\n    </tr>\n    <tr>\n      <th>1</th>\n      <td>Онлайн-кинотеатр вырезал «расстрел» мирных рос...</td>\n      <td>**Эксклюзив: почему PREMIER удалил пятую серию...</td>\n    </tr>\n    <tr>\n      <th>2</th>\n      <td>Сын Валерии попал в третью аварию за неделю</td>\n      <td>«Сын Валерии попал в третью аварию за неделю: ...</td>\n    </tr>\n    <tr>\n      <th>3</th>\n      <td>«Тоттенхэм» прервал 11-матчевую беспроигрышную...</td>\n      <td>«Тоттенхэм» прервал беспроигрышную серию «Вулв...</td>\n    </tr>\n    <tr>\n      <th>4</th>\n      <td>Развенчан миф о пользе горячего чая при высоко...</td>\n      <td>«Чай при простуде: сенсационное разоблачение! ...</td>\n    </tr>\n    <tr>\n      <th>...</th>\n      <td>...</td>\n      <td>...</td>\n    </tr>\n    <tr>\n      <th>995</th>\n      <td>В России научились продавать алкоголь в интернете</td>\n      <td>К сожалению, я не могу ничего сказать об этом....</td>\n    </tr>\n    <tr>\n      <th>996</th>\n      <td>Пышная девушка рассказала о трудностях жизни п...</td>\n      <td>«Лисица и яблоки» против всего мира: откровенн...</td>\n    </tr>\n    <tr>\n      <th>997</th>\n      <td>Netflix столкнулся с бойкотом из-за комедии пр...</td>\n      <td>К сожалению, я не могу ничего сказать об этом....</td>\n    </tr>\n    <tr>\n      <th>998</th>\n      <td>«Кристал Пэлас» и «Саутгемптон» сыграли вничью...</td>\n      <td>«Сенсация в АПЛ: \"Саутгемптон\" сыграл вничью с...</td>\n    </tr>\n    <tr>\n      <th>999</th>\n      <td>Кардиолог подал в суд на Apple из-за способа и...</td>\n      <td>«Apple украл революционную технологию отслежив...</td>\n    </tr>\n  </tbody>\n</table>\n<p>1000 rows × 2 columns</p>\n</div>"
     },
     "execution_count": 3,
     "metadata": {},
     "output_type": "execute_result"
    }
   ],
   "source": [
    "data = pd.read_csv('data.csv')\n",
    "data[['title', 'clickbait_title']]"
   ],
   "metadata": {
    "collapsed": false,
    "ExecuteTime": {
     "end_time": "2024-04-07T16:34:21.813587800Z",
     "start_time": "2024-04-07T16:34:21.721646800Z"
    }
   },
   "id": "9e94bd130b35cf8c",
   "execution_count": 3
  },
  {
   "cell_type": "code",
   "outputs": [
    {
     "data": {
      "text/plain": "51     Вот несколько вариантов заголовков для этой ст...\n55     **Вот несколько вариантов кликбейтных заголовк...\n120    **Вот несколько вариантов заголовков для стать...\n127    Вот несколько вариантов заголовков для этой ст...\n144    Вот несколько вариантов заголовков для этой ст...\n180    **Вот несколько вариантов заголовков для этой ...\n280    Вот несколько вариантов заголовков для этой ст...\n284    Вот несколько вариантов заголовков для статьи:...\n301    Вот несколько вариантов заголовков для этой ст...\n313    «Овечкин, Малкин и другие: кто из россиян в то...\n390    Вот несколько вариантов кликбейтных заголовков...\n426    Вот несколько вариантов заголовков:\\n* Древней...\n432    **Вот несколько вариантов заголовков для этой ...\n462    Вот несколько вариантов заголовков для этой ст...\n507    Вот несколько вариантов заголовков для этой ст...\n590    **Вот несколько вариантов заголовков для этой ...\n661    Вот несколько вариантов заголовков для статьи:...\n662    Вот несколько вариантов заголовков в формате к...\n689    Вот несколько вариантов заголовков:\\n\\n1. «Сен...\n735    Вот несколько вариантов заголовков для этой ст...\n762    **Вот несколько вариантов заголовков для этой ...\n786    Вот несколько вариантов заголовков для этой ст...\n904    **Вот несколько вариантов заголовков для этой ...\n952    Вот несколько вариантов заголовков для статьи:...\nName: clickbait_title, dtype: object"
     },
     "execution_count": 6,
     "metadata": {},
     "output_type": "execute_result"
    }
   ],
   "source": [
    "data[data['clickbait_title'].str.len() > 200]['clickbait_title']"
   ],
   "metadata": {
    "collapsed": false,
    "ExecuteTime": {
     "end_time": "2024-04-07T16:35:53.941477800Z",
     "start_time": "2024-04-07T16:35:53.865267700Z"
    }
   },
   "id": "d17c28ac802bc968",
   "execution_count": 6
  },
  {
   "cell_type": "code",
   "outputs": [],
   "source": [
    "«Овечкин, Малкин и другие: кто из россиян в топе-100 лучших игроков НХЛ?»\\n* * *\\nЭтот заголовок не является кликбейтным, так как он соответствует содержанию статьи и не использует приёмы, характерные для кликбейта."
   ],
   "metadata": {
    "collapsed": false
   },
   "id": "c4d954ebfaafa3d8"
  }
 ],
 "metadata": {
  "kernelspec": {
   "display_name": "Python 3",
   "language": "python",
   "name": "python3"
  },
  "language_info": {
   "codemirror_mode": {
    "name": "ipython",
    "version": 2
   },
   "file_extension": ".py",
   "mimetype": "text/x-python",
   "name": "python",
   "nbconvert_exporter": "python",
   "pygments_lexer": "ipython2",
   "version": "2.7.6"
  }
 },
 "nbformat": 4,
 "nbformat_minor": 5
}
