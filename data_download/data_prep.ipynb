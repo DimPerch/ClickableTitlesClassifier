{
 "cells": [
  {
   "cell_type": "code",
   "execution_count": 2,
   "id": "initial_id",
   "metadata": {
    "collapsed": true,
    "ExecuteTime": {
     "end_time": "2024-04-08T15:09:43.051703200Z",
     "start_time": "2024-04-08T15:09:38.624690700Z"
    }
   },
   "outputs": [],
   "source": [
    "import pandas as pd"
   ]
  },
  {
   "cell_type": "code",
   "outputs": [
    {
     "data": {
      "text/plain": "                                                   title           topic  \\\n0      Российские биатлонистки провели худшую гонку в...           Спорт   \n1      Москвичи перехотели покупать недвижимость в но...  Среда обитания   \n2      Сломавшую ногу на горе в Сочи россиянку эвакуи...     Путешествия   \n3      Стали известны подробности обвинения в адрес ж...  Интернет и СМИ   \n4      Доктор Комаровский назвал препятствующую разви...  Интернет и СМИ   \n...                                                  ...             ...   \n49995  Жириновский предложил построить новое здание д...  Среда обитания   \n49996  Москвичам пообещали две волны тепла до конца о...  Среда обитания   \n49997  Названы самые востребованные у россиян направл...     Путешествия   \n49998  Игрок НХЛ получил удар коленом в голову и был ...           Спорт   \n49999  Власти призвали не пугать россиян подорожанием...  Среда обитания   \n\n                                                    text  \n0      Российские биатлонистки остались без медалей в...  \n1      В Москве зафиксировали резкое снижение числа с...  \n2      Россиянка, сломавшая ногу на горе в Сочи, была...  \n3      Журналистку Александру Баязитову обвинили в вы...  \n4      Врач и телеведущий Евгений Комаровский назвал ...  \n...                                                  ...  \n49995  Лидер ЛДПР Владимир Жириновский предложил пост...  \n49996  В Москве до конца октября ожидаются две непрод...  \n49997  Благодаря расширению авиаперевозок россияне на...  \n49998  Нападающий «Торонто Мэйпл Лифс» Джон Таварес п...  \n49999  В Минприроды призвали российских производителе...  \n\n[50000 rows x 3 columns]",
      "text/html": "<div>\n<style scoped>\n    .dataframe tbody tr th:only-of-type {\n        vertical-align: middle;\n    }\n\n    .dataframe tbody tr th {\n        vertical-align: top;\n    }\n\n    .dataframe thead th {\n        text-align: right;\n    }\n</style>\n<table border=\"1\" class=\"dataframe\">\n  <thead>\n    <tr style=\"text-align: right;\">\n      <th></th>\n      <th>title</th>\n      <th>topic</th>\n      <th>text</th>\n    </tr>\n  </thead>\n  <tbody>\n    <tr>\n      <th>0</th>\n      <td>Российские биатлонистки провели худшую гонку в...</td>\n      <td>Спорт</td>\n      <td>Российские биатлонистки остались без медалей в...</td>\n    </tr>\n    <tr>\n      <th>1</th>\n      <td>Москвичи перехотели покупать недвижимость в но...</td>\n      <td>Среда обитания</td>\n      <td>В Москве зафиксировали резкое снижение числа с...</td>\n    </tr>\n    <tr>\n      <th>2</th>\n      <td>Сломавшую ногу на горе в Сочи россиянку эвакуи...</td>\n      <td>Путешествия</td>\n      <td>Россиянка, сломавшая ногу на горе в Сочи, была...</td>\n    </tr>\n    <tr>\n      <th>3</th>\n      <td>Стали известны подробности обвинения в адрес ж...</td>\n      <td>Интернет и СМИ</td>\n      <td>Журналистку Александру Баязитову обвинили в вы...</td>\n    </tr>\n    <tr>\n      <th>4</th>\n      <td>Доктор Комаровский назвал препятствующую разви...</td>\n      <td>Интернет и СМИ</td>\n      <td>Врач и телеведущий Евгений Комаровский назвал ...</td>\n    </tr>\n    <tr>\n      <th>...</th>\n      <td>...</td>\n      <td>...</td>\n      <td>...</td>\n    </tr>\n    <tr>\n      <th>49995</th>\n      <td>Жириновский предложил построить новое здание д...</td>\n      <td>Среда обитания</td>\n      <td>Лидер ЛДПР Владимир Жириновский предложил пост...</td>\n    </tr>\n    <tr>\n      <th>49996</th>\n      <td>Москвичам пообещали две волны тепла до конца о...</td>\n      <td>Среда обитания</td>\n      <td>В Москве до конца октября ожидаются две непрод...</td>\n    </tr>\n    <tr>\n      <th>49997</th>\n      <td>Названы самые востребованные у россиян направл...</td>\n      <td>Путешествия</td>\n      <td>Благодаря расширению авиаперевозок россияне на...</td>\n    </tr>\n    <tr>\n      <th>49998</th>\n      <td>Игрок НХЛ получил удар коленом в голову и был ...</td>\n      <td>Спорт</td>\n      <td>Нападающий «Торонто Мэйпл Лифс» Джон Таварес п...</td>\n    </tr>\n    <tr>\n      <th>49999</th>\n      <td>Власти призвали не пугать россиян подорожанием...</td>\n      <td>Среда обитания</td>\n      <td>В Минприроды призвали российских производителе...</td>\n    </tr>\n  </tbody>\n</table>\n<p>50000 rows × 3 columns</p>\n</div>"
     },
     "execution_count": 6,
     "metadata": {},
     "output_type": "execute_result"
    }
   ],
   "source": [
    "text_for_gpt = pd.read_csv('data_for_gpt.csv')\n",
    "text_for_gpt.head(4)"
   ],
   "metadata": {
    "collapsed": false,
    "ExecuteTime": {
     "end_time": "2024-04-08T15:10:58.738380500Z",
     "start_time": "2024-04-08T15:10:54.997067200Z"
    }
   },
   "id": "28a658a510b928db",
   "execution_count": 6
  },
  {
   "cell_type": "code",
   "outputs": [
    {
     "data": {
      "text/plain": "                                               title           topic  \\\n0  Российские биатлонистки провели худшую гонку в...           Спорт   \n1  Москвичи перехотели покупать недвижимость в но...  Среда обитания   \n2  Сломавшую ногу на горе в Сочи россиянку эвакуи...     Путешествия   \n\n                                                text  \n0  Российские биатлонистки остались без медалей в...  \n1  В Москве зафиксировали резкое снижение числа с...  \n2  Россиянка, сломавшая ногу на горе в Сочи, была...  ",
      "text/html": "<div>\n<style scoped>\n    .dataframe tbody tr th:only-of-type {\n        vertical-align: middle;\n    }\n\n    .dataframe tbody tr th {\n        vertical-align: top;\n    }\n\n    .dataframe thead th {\n        text-align: right;\n    }\n</style>\n<table border=\"1\" class=\"dataframe\">\n  <thead>\n    <tr style=\"text-align: right;\">\n      <th></th>\n      <th>title</th>\n      <th>topic</th>\n      <th>text</th>\n    </tr>\n  </thead>\n  <tbody>\n    <tr>\n      <th>0</th>\n      <td>Российские биатлонистки провели худшую гонку в...</td>\n      <td>Спорт</td>\n      <td>Российские биатлонистки остались без медалей в...</td>\n    </tr>\n    <tr>\n      <th>1</th>\n      <td>Москвичи перехотели покупать недвижимость в но...</td>\n      <td>Среда обитания</td>\n      <td>В Москве зафиксировали резкое снижение числа с...</td>\n    </tr>\n    <tr>\n      <th>2</th>\n      <td>Сломавшую ногу на горе в Сочи россиянку эвакуи...</td>\n      <td>Путешествия</td>\n      <td>Россиянка, сломавшая ногу на горе в Сочи, была...</td>\n    </tr>\n  </tbody>\n</table>\n</div>"
     },
     "execution_count": 7,
     "metadata": {},
     "output_type": "execute_result"
    }
   ],
   "source": [
    "text_for_gpt[0:3]"
   ],
   "metadata": {
    "collapsed": false,
    "ExecuteTime": {
     "end_time": "2024-04-08T15:15:04.299961700Z",
     "start_time": "2024-04-08T15:15:04.249428100Z"
    }
   },
   "id": "a51a4ce673fd32d7",
   "execution_count": 7
  },
  {
   "cell_type": "code",
   "outputs": [],
   "source": [
    "for i in range(10):\n",
    "    text_for_gpt[i*5000:(i+1)*5000].to_csv(f'./data_portioned/data_{i}')"
   ],
   "metadata": {
    "collapsed": false,
    "ExecuteTime": {
     "end_time": "2024-04-08T15:17:16.570704900Z",
     "start_time": "2024-04-08T15:17:12.342685500Z"
    }
   },
   "id": "f76707a763c1ca5a",
   "execution_count": 9
  },
  {
   "cell_type": "code",
   "outputs": [],
   "source": [],
   "metadata": {
    "collapsed": false
   },
   "id": "1144b623c1e03e7"
  }
 ],
 "metadata": {
  "kernelspec": {
   "display_name": "Python 3",
   "language": "python",
   "name": "python3"
  },
  "language_info": {
   "codemirror_mode": {
    "name": "ipython",
    "version": 2
   },
   "file_extension": ".py",
   "mimetype": "text/x-python",
   "name": "python",
   "nbconvert_exporter": "python",
   "pygments_lexer": "ipython2",
   "version": "2.7.6"
  }
 },
 "nbformat": 4,
 "nbformat_minor": 5
}
