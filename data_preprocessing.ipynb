{
 "cells": [
  {
   "cell_type": "code",
   "execution_count": 1,
   "id": "initial_id",
   "metadata": {
    "collapsed": true,
    "ExecuteTime": {
     "end_time": "2024-04-08T14:02:24.103288100Z",
     "start_time": "2024-04-08T14:02:22.162736500Z"
    }
   },
   "outputs": [],
   "source": [
    "import pandas as pd\n",
    "import numpy as np"
   ]
  },
  {
   "cell_type": "code",
   "outputs": [
    {
     "data": {
      "text/plain": "                                                 title  \\\n0    Украинская ЛГБТ-активистка обвинила ню-фотогра...   \n1    Онлайн-кинотеатр вырезал «расстрел» мирных рос...   \n2          Сын Валерии попал в третью аварию за неделю   \n3    «Тоттенхэм» прервал 11-матчевую беспроигрышную...   \n4    Развенчан миф о пользе горячего чая при высоко...   \n..                                                 ...   \n995  В России научились продавать алкоголь в интернете   \n996  Пышная девушка рассказала о трудностях жизни п...   \n997  Netflix столкнулся с бойкотом из-за комедии пр...   \n998  «Кристал Пэлас» и «Саутгемптон» сыграли вничью...   \n999  Кардиолог подал в суд на Apple из-за способа и...   \n\n                                       clickbait_title  \n0    К сожалению, я не могу ничего сказать об этом....  \n1    **Эксклюзив: почему PREMIER удалил пятую серию...  \n2    «Сын Валерии попал в третью аварию за неделю: ...  \n3    «Тоттенхэм» прервал беспроигрышную серию «Вулв...  \n4    «Чай при простуде: сенсационное разоблачение! ...  \n..                                                 ...  \n995  К сожалению, я не могу ничего сказать об этом....  \n996  «Лисица и яблоки» против всего мира: откровенн...  \n997  К сожалению, я не могу ничего сказать об этом....  \n998  «Сенсация в АПЛ: \"Саутгемптон\" сыграл вничью с...  \n999  «Apple украл революционную технологию отслежив...  \n\n[1000 rows x 2 columns]",
      "text/html": "<div>\n<style scoped>\n    .dataframe tbody tr th:only-of-type {\n        vertical-align: middle;\n    }\n\n    .dataframe tbody tr th {\n        vertical-align: top;\n    }\n\n    .dataframe thead th {\n        text-align: right;\n    }\n</style>\n<table border=\"1\" class=\"dataframe\">\n  <thead>\n    <tr style=\"text-align: right;\">\n      <th></th>\n      <th>title</th>\n      <th>clickbait_title</th>\n    </tr>\n  </thead>\n  <tbody>\n    <tr>\n      <th>0</th>\n      <td>Украинская ЛГБТ-активистка обвинила ню-фотогра...</td>\n      <td>К сожалению, я не могу ничего сказать об этом....</td>\n    </tr>\n    <tr>\n      <th>1</th>\n      <td>Онлайн-кинотеатр вырезал «расстрел» мирных рос...</td>\n      <td>**Эксклюзив: почему PREMIER удалил пятую серию...</td>\n    </tr>\n    <tr>\n      <th>2</th>\n      <td>Сын Валерии попал в третью аварию за неделю</td>\n      <td>«Сын Валерии попал в третью аварию за неделю: ...</td>\n    </tr>\n    <tr>\n      <th>3</th>\n      <td>«Тоттенхэм» прервал 11-матчевую беспроигрышную...</td>\n      <td>«Тоттенхэм» прервал беспроигрышную серию «Вулв...</td>\n    </tr>\n    <tr>\n      <th>4</th>\n      <td>Развенчан миф о пользе горячего чая при высоко...</td>\n      <td>«Чай при простуде: сенсационное разоблачение! ...</td>\n    </tr>\n    <tr>\n      <th>...</th>\n      <td>...</td>\n      <td>...</td>\n    </tr>\n    <tr>\n      <th>995</th>\n      <td>В России научились продавать алкоголь в интернете</td>\n      <td>К сожалению, я не могу ничего сказать об этом....</td>\n    </tr>\n    <tr>\n      <th>996</th>\n      <td>Пышная девушка рассказала о трудностях жизни п...</td>\n      <td>«Лисица и яблоки» против всего мира: откровенн...</td>\n    </tr>\n    <tr>\n      <th>997</th>\n      <td>Netflix столкнулся с бойкотом из-за комедии пр...</td>\n      <td>К сожалению, я не могу ничего сказать об этом....</td>\n    </tr>\n    <tr>\n      <th>998</th>\n      <td>«Кристал Пэлас» и «Саутгемптон» сыграли вничью...</td>\n      <td>«Сенсация в АПЛ: \"Саутгемптон\" сыграл вничью с...</td>\n    </tr>\n    <tr>\n      <th>999</th>\n      <td>Кардиолог подал в суд на Apple из-за способа и...</td>\n      <td>«Apple украл революционную технологию отслежив...</td>\n    </tr>\n  </tbody>\n</table>\n<p>1000 rows × 2 columns</p>\n</div>"
     },
     "execution_count": 14,
     "metadata": {},
     "output_type": "execute_result"
    }
   ],
   "source": [
    "data = pd.read_csv('data.csv',index_col=0)\n",
    "data"
   ],
   "metadata": {
    "collapsed": false,
    "ExecuteTime": {
     "end_time": "2024-04-08T14:21:38.346705Z",
     "start_time": "2024-04-08T14:21:38.242432200Z"
    }
   },
   "id": "cf07aec8a90de12b",
   "execution_count": 14
  },
  {
   "cell_type": "code",
   "outputs": [
    {
     "data": {
      "text/plain": "                                               title  \\\n0                Россиянам дали советы по выбору чая   \n1  В Госдуме назвали японское заявление о Курилах...   \n2  Украинская ЛГБТ-активистка обвинила ню-фотогра...   \n3  Полицейские застрелили порезавшего мать буйног...   \n4       Беглого президента Боливии решили арестовать   \n\n                                                text              topic  \n0  Россиянам дали советы при выборе чая. Рекоменд...             Россия  \n1  Спикер Госдумы Вячеслав Володин назвал угрозой...             Россия  \n2  Украинская ЛГБТ-активистка Виктория Гуйвик обв...           Культура  \n3  В Москве полицейские застрелили мужчину при по...  Силовые структуры  \n4  Исполняющая обязанности президента Боливии Жан...                Мир  ",
      "text/html": "<div>\n<style scoped>\n    .dataframe tbody tr th:only-of-type {\n        vertical-align: middle;\n    }\n\n    .dataframe tbody tr th {\n        vertical-align: top;\n    }\n\n    .dataframe thead th {\n        text-align: right;\n    }\n</style>\n<table border=\"1\" class=\"dataframe\">\n  <thead>\n    <tr style=\"text-align: right;\">\n      <th></th>\n      <th>title</th>\n      <th>text</th>\n      <th>topic</th>\n    </tr>\n  </thead>\n  <tbody>\n    <tr>\n      <th>0</th>\n      <td>Россиянам дали советы по выбору чая</td>\n      <td>Россиянам дали советы при выборе чая. Рекоменд...</td>\n      <td>Россия</td>\n    </tr>\n    <tr>\n      <th>1</th>\n      <td>В Госдуме назвали японское заявление о Курилах...</td>\n      <td>Спикер Госдумы Вячеслав Володин назвал угрозой...</td>\n      <td>Россия</td>\n    </tr>\n    <tr>\n      <th>2</th>\n      <td>Украинская ЛГБТ-активистка обвинила ню-фотогра...</td>\n      <td>Украинская ЛГБТ-активистка Виктория Гуйвик обв...</td>\n      <td>Культура</td>\n    </tr>\n    <tr>\n      <th>3</th>\n      <td>Полицейские застрелили порезавшего мать буйног...</td>\n      <td>В Москве полицейские застрелили мужчину при по...</td>\n      <td>Силовые структуры</td>\n    </tr>\n    <tr>\n      <th>4</th>\n      <td>Беглого президента Боливии решили арестовать</td>\n      <td>Исполняющая обязанности президента Боливии Жан...</td>\n      <td>Мир</td>\n    </tr>\n  </tbody>\n</table>\n</div>"
     },
     "execution_count": 5,
     "metadata": {},
     "output_type": "execute_result"
    }
   ],
   "source": [
    "news_df = pd.read_csv('./data_download/news.csv')\n",
    "news_df = news_df[['title', 'text', 'topic']]\n",
    "news_df.head()"
   ],
   "metadata": {
    "collapsed": false,
    "ExecuteTime": {
     "end_time": "2024-04-06T17:27:17.525199700Z",
     "start_time": "2024-04-06T17:27:15.422518400Z"
    }
   },
   "id": "e93f19cf86470230",
   "execution_count": 5
  },
  {
   "cell_type": "code",
   "outputs": [
    {
     "data": {
      "text/plain": "Россия               10996\nМир                   6457\nЭкономика             4792\nБывший СССР           3798\nСпорт                 3563\nНаука и техника       2828\nСиловые структуры     2714\nИнтернет и СМИ        2623\nИз жизни              2432\nКультура              2339\nПутешествия           2029\nЦенности              1636\nСреда обитания        1484\nНацпроекты            1450\n69-я параллель         280\nДом                    254\nОружие                   2\nБизнес                   2\nName: topic, dtype: int64"
     },
     "execution_count": 7,
     "metadata": {},
     "output_type": "execute_result"
    }
   ],
   "source": [
    "news_df['topic'].value_counts()"
   ],
   "metadata": {
    "collapsed": false,
    "ExecuteTime": {
     "end_time": "2024-04-06T17:29:06.253150100Z",
     "start_time": "2024-04-06T17:29:06.244183800Z"
    }
   },
   "id": "e2c90e88cde68c08",
   "execution_count": 7
  },
  {
   "cell_type": "code",
   "outputs": [],
   "source": [
    "news_filtered_df = news_df[news_df['topic'].isin(['Культура', 'Экономика', 'Спорт', 'Наука и техника', 'Интернет и СМИ'])]\n",
    "news_filtered_df.to_csv('./data_download/news_filtered.csv')"
   ],
   "metadata": {
    "collapsed": false,
    "ExecuteTime": {
     "end_time": "2024-04-06T17:30:54.002561300Z",
     "start_time": "2024-04-06T17:30:53.097668600Z"
    }
   },
   "id": "ff3854901122602c",
   "execution_count": 9
  },
  {
   "cell_type": "code",
   "outputs": [],
   "source": [
    "data = pd.read_csv('data.csv')\n",
    "kaggle = pd.read_csv('titles_data.csv', sep=';')\n",
    "clickbait = pd.DataFrame({'title': data['clickbait_title']})\n",
    "clickbait['is_clickbait'] = 1\n",
    "\n",
    "not_clickbait = pd.DataFrame({'title': data['title']})\n",
    "not_clickbait['is_clickbait'] = 0\n",
    "\n",
    "df = pd.concat([clickbait, not_clickbait])\n",
    "kaggle.rename(columns={'titles' : 'title', 'target' : 'is_clickbait'}, inplace=True)\n",
    "df = pd.concat([kaggle, df])"
   ],
   "metadata": {
    "collapsed": false,
    "ExecuteTime": {
     "end_time": "2024-04-08T14:05:43.619283400Z",
     "start_time": "2024-04-08T14:05:43.474640100Z"
    }
   },
   "id": "5755ba6d318c7879",
   "execution_count": 6
  },
  {
   "cell_type": "code",
   "outputs": [
    {
     "data": {
      "text/plain": "                                                 title  is_clickbait\n0    Родственник раскрыл настоящую фамилию Пугачёво...             1\n1    Предсказания Матроны Московской на 2024-й год:...             1\n2    Пророчество схимонахини Нины об антихристе, ми...             1\n3    «Думал об этом»: что Путин сказал о своем прее...             1\n4    Путин поручил уведомить россиян об изменениях ...             1\n..                                                 ...           ...\n995  В России научились продавать алкоголь в интернете             0\n996  Пышная девушка рассказала о трудностях жизни п...             0\n997  Netflix столкнулся с бойкотом из-за комедии пр...             0\n998  «Кристал Пэлас» и «Саутгемптон» сыграли вничью...             0\n999  Кардиолог подал в суд на Apple из-за способа и...             0\n\n[5198 rows x 2 columns]",
      "text/html": "<div>\n<style scoped>\n    .dataframe tbody tr th:only-of-type {\n        vertical-align: middle;\n    }\n\n    .dataframe tbody tr th {\n        vertical-align: top;\n    }\n\n    .dataframe thead th {\n        text-align: right;\n    }\n</style>\n<table border=\"1\" class=\"dataframe\">\n  <thead>\n    <tr style=\"text-align: right;\">\n      <th></th>\n      <th>title</th>\n      <th>is_clickbait</th>\n    </tr>\n  </thead>\n  <tbody>\n    <tr>\n      <th>0</th>\n      <td>Родственник раскрыл настоящую фамилию Пугачёво...</td>\n      <td>1</td>\n    </tr>\n    <tr>\n      <th>1</th>\n      <td>Предсказания Матроны Московской на 2024-й год:...</td>\n      <td>1</td>\n    </tr>\n    <tr>\n      <th>2</th>\n      <td>Пророчество схимонахини Нины об антихристе, ми...</td>\n      <td>1</td>\n    </tr>\n    <tr>\n      <th>3</th>\n      <td>«Думал об этом»: что Путин сказал о своем прее...</td>\n      <td>1</td>\n    </tr>\n    <tr>\n      <th>4</th>\n      <td>Путин поручил уведомить россиян об изменениях ...</td>\n      <td>1</td>\n    </tr>\n    <tr>\n      <th>...</th>\n      <td>...</td>\n      <td>...</td>\n    </tr>\n    <tr>\n      <th>995</th>\n      <td>В России научились продавать алкоголь в интернете</td>\n      <td>0</td>\n    </tr>\n    <tr>\n      <th>996</th>\n      <td>Пышная девушка рассказала о трудностях жизни п...</td>\n      <td>0</td>\n    </tr>\n    <tr>\n      <th>997</th>\n      <td>Netflix столкнулся с бойкотом из-за комедии пр...</td>\n      <td>0</td>\n    </tr>\n    <tr>\n      <th>998</th>\n      <td>«Кристал Пэлас» и «Саутгемптон» сыграли вничью...</td>\n      <td>0</td>\n    </tr>\n    <tr>\n      <th>999</th>\n      <td>Кардиолог подал в суд на Apple из-за способа и...</td>\n      <td>0</td>\n    </tr>\n  </tbody>\n</table>\n<p>5198 rows × 2 columns</p>\n</div>"
     },
     "execution_count": 7,
     "metadata": {},
     "output_type": "execute_result"
    }
   ],
   "source": [
    "df"
   ],
   "metadata": {
    "collapsed": false,
    "ExecuteTime": {
     "end_time": "2024-04-08T14:05:46.908908100Z",
     "start_time": "2024-04-08T14:05:46.887425400Z"
    }
   },
   "id": "a43aeaca98711",
   "execution_count": 7
  },
  {
   "cell_type": "code",
   "outputs": [
    {
     "name": "stderr",
     "output_type": "stream",
     "text": [
      "C:\\Users\\user\\AppData\\Local\\Temp\\ipykernel_16392\\3154633456.py:25: SettingWithCopyWarning: \n",
      "A value is trying to be set on a copy of a slice from a DataFrame.\n",
      "Try using .loc[row_indexer,col_indexer] = value instead\n",
      "\n",
      "See the caveats in the documentation: https://pandas.pydata.org/pandas-docs/stable/user_guide/indexing.html#returning-a-view-versus-a-copy\n",
      "  df['title'] = df['title'].apply(clean)\n"
     ]
    }
   ],
   "source": [
    "# Удалим дубликаты и пропуски\n",
    "df.dropna(inplace=True)\n",
    "df.drop_duplicates(inplace=True)\n",
    "\n",
    "# Удалим заголовки, на которые YandexGPT не дал ответы\n",
    "no_answer = 'К сожалению, я не могу ничего сказать об этом. Давайте сменим тему?'\n",
    "df = df[~df['title'].str.startswith(no_answer)]\n",
    "\n",
    "# Удалим ненужную информацию из заголовков\n",
    "def clean(text):\n",
    "    text = text.strip()\n",
    "    # Фраза предлагающая один из вариантов кликбейта\n",
    "    if text.startswith('Вот один из'):\n",
    "        parts = [part.strip() for part in text.split(':')[1:]]\n",
    "        text = ' '.join(parts)\n",
    "    # Фраза предлагающая несколько вариантов кликбейта\n",
    "    if text.startswith('Вот несколько'):\n",
    "        text = text.split(':')[1].strip()\n",
    "    # Ненужные знаки при генерации текста\n",
    "    useless = ['«', '»', '**', '*']\n",
    "    for to_change in useless:\n",
    "        text = text.replace(to_change, '')\n",
    "    return text\n",
    "\n",
    "df['title'] = df['title'].apply(clean)"
   ],
   "metadata": {
    "collapsed": false,
    "ExecuteTime": {
     "end_time": "2024-04-08T14:06:11.209544200Z",
     "start_time": "2024-04-08T14:06:11.109436900Z"
    }
   },
   "id": "86a47e5267636100",
   "execution_count": 8
  },
  {
   "cell_type": "code",
   "outputs": [],
   "source": [
    "df.to_csv('cleaned_data.csv')"
   ],
   "metadata": {
    "collapsed": false,
    "ExecuteTime": {
     "end_time": "2024-04-08T14:07:26.301077700Z",
     "start_time": "2024-04-08T14:07:26.208024300Z"
    }
   },
   "id": "1617ff251a4cc4a3",
   "execution_count": 10
  },
  {
   "cell_type": "code",
   "outputs": [],
   "source": [],
   "metadata": {
    "collapsed": false
   },
   "id": "e79347c1fa5bb8a8"
  }
 ],
 "metadata": {
  "kernelspec": {
   "display_name": "Python 3",
   "language": "python",
   "name": "python3"
  },
  "language_info": {
   "codemirror_mode": {
    "name": "ipython",
    "version": 2
   },
   "file_extension": ".py",
   "mimetype": "text/x-python",
   "name": "python",
   "nbconvert_exporter": "python",
   "pygments_lexer": "ipython2",
   "version": "2.7.6"
  }
 },
 "nbformat": 4,
 "nbformat_minor": 5
}
