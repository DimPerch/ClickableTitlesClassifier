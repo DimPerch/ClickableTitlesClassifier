{
 "cells": [
  {
   "cell_type": "code",
   "execution_count": 2,
   "id": "initial_id",
   "metadata": {
    "collapsed": true,
    "ExecuteTime": {
     "end_time": "2024-04-06T17:26:14.913796300Z",
     "start_time": "2024-04-06T17:26:13.536018500Z"
    }
   },
   "outputs": [],
   "source": [
    "import pandas as pd\n",
    "import numpy as np"
   ]
  },
  {
   "cell_type": "code",
   "outputs": [
    {
     "data": {
      "text/plain": "                                               title  \\\n0                Россиянам дали советы по выбору чая   \n1  В Госдуме назвали японское заявление о Курилах...   \n2  Украинская ЛГБТ-активистка обвинила ню-фотогра...   \n3  Полицейские застрелили порезавшего мать буйног...   \n4       Беглого президента Боливии решили арестовать   \n\n                                                text              topic  \n0  Россиянам дали советы при выборе чая. Рекоменд...             Россия  \n1  Спикер Госдумы Вячеслав Володин назвал угрозой...             Россия  \n2  Украинская ЛГБТ-активистка Виктория Гуйвик обв...           Культура  \n3  В Москве полицейские застрелили мужчину при по...  Силовые структуры  \n4  Исполняющая обязанности президента Боливии Жан...                Мир  ",
      "text/html": "<div>\n<style scoped>\n    .dataframe tbody tr th:only-of-type {\n        vertical-align: middle;\n    }\n\n    .dataframe tbody tr th {\n        vertical-align: top;\n    }\n\n    .dataframe thead th {\n        text-align: right;\n    }\n</style>\n<table border=\"1\" class=\"dataframe\">\n  <thead>\n    <tr style=\"text-align: right;\">\n      <th></th>\n      <th>title</th>\n      <th>text</th>\n      <th>topic</th>\n    </tr>\n  </thead>\n  <tbody>\n    <tr>\n      <th>0</th>\n      <td>Россиянам дали советы по выбору чая</td>\n      <td>Россиянам дали советы при выборе чая. Рекоменд...</td>\n      <td>Россия</td>\n    </tr>\n    <tr>\n      <th>1</th>\n      <td>В Госдуме назвали японское заявление о Курилах...</td>\n      <td>Спикер Госдумы Вячеслав Володин назвал угрозой...</td>\n      <td>Россия</td>\n    </tr>\n    <tr>\n      <th>2</th>\n      <td>Украинская ЛГБТ-активистка обвинила ню-фотогра...</td>\n      <td>Украинская ЛГБТ-активистка Виктория Гуйвик обв...</td>\n      <td>Культура</td>\n    </tr>\n    <tr>\n      <th>3</th>\n      <td>Полицейские застрелили порезавшего мать буйног...</td>\n      <td>В Москве полицейские застрелили мужчину при по...</td>\n      <td>Силовые структуры</td>\n    </tr>\n    <tr>\n      <th>4</th>\n      <td>Беглого президента Боливии решили арестовать</td>\n      <td>Исполняющая обязанности президента Боливии Жан...</td>\n      <td>Мир</td>\n    </tr>\n  </tbody>\n</table>\n</div>"
     },
     "execution_count": 5,
     "metadata": {},
     "output_type": "execute_result"
    }
   ],
   "source": [
    "news_df = pd.read_csv('./data_download/news.csv')\n",
    "news_df = news_df[['title', 'text', 'topic']]\n",
    "news_df.head()"
   ],
   "metadata": {
    "collapsed": false,
    "ExecuteTime": {
     "end_time": "2024-04-06T17:27:17.525199700Z",
     "start_time": "2024-04-06T17:27:15.422518400Z"
    }
   },
   "id": "e93f19cf86470230",
   "execution_count": 5
  },
  {
   "cell_type": "code",
   "outputs": [
    {
     "data": {
      "text/plain": "Россия               10996\nМир                   6457\nЭкономика             4792\nБывший СССР           3798\nСпорт                 3563\nНаука и техника       2828\nСиловые структуры     2714\nИнтернет и СМИ        2623\nИз жизни              2432\nКультура              2339\nПутешествия           2029\nЦенности              1636\nСреда обитания        1484\nНацпроекты            1450\n69-я параллель         280\nДом                    254\nОружие                   2\nБизнес                   2\nName: topic, dtype: int64"
     },
     "execution_count": 7,
     "metadata": {},
     "output_type": "execute_result"
    }
   ],
   "source": [
    "news_df['topic'].value_counts()"
   ],
   "metadata": {
    "collapsed": false,
    "ExecuteTime": {
     "end_time": "2024-04-06T17:29:06.253150100Z",
     "start_time": "2024-04-06T17:29:06.244183800Z"
    }
   },
   "id": "e2c90e88cde68c08",
   "execution_count": 7
  },
  {
   "cell_type": "code",
   "outputs": [],
   "source": [
    "news_filtered_df = news_df[news_df['topic'].isin(['Культура', 'Экономика', 'Спорт', 'Наука и техника', 'Интернет и СМИ'])]\n",
    "news_filtered_df.to_csv('./data_download/news_filtered.csv')"
   ],
   "metadata": {
    "collapsed": false,
    "ExecuteTime": {
     "end_time": "2024-04-06T17:30:54.002561300Z",
     "start_time": "2024-04-06T17:30:53.097668600Z"
    }
   },
   "id": "ff3854901122602c",
   "execution_count": 9
  },
  {
   "cell_type": "code",
   "outputs": [],
   "source": [],
   "metadata": {
    "collapsed": false
   },
   "id": "5755ba6d318c7879"
  }
 ],
 "metadata": {
  "kernelspec": {
   "display_name": "Python 3",
   "language": "python",
   "name": "python3"
  },
  "language_info": {
   "codemirror_mode": {
    "name": "ipython",
    "version": 2
   },
   "file_extension": ".py",
   "mimetype": "text/x-python",
   "name": "python",
   "nbconvert_exporter": "python",
   "pygments_lexer": "ipython2",
   "version": "2.7.6"
  }
 },
 "nbformat": 4,
 "nbformat_minor": 5
}
