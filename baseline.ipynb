{
 "cells": [
  {
   "cell_type": "markdown",
   "metadata": {
    "id": "PnBH4WfLjnzK"
   },
   "source": [
    "# Введение\n",
    "Цель данного ноутбука заключается в создании модели, способной отличать кликбейтные тексты от обычных."
   ]
  },
  {
   "cell_type": "markdown",
   "metadata": {
    "id": "FGGDlJEbjxjg"
   },
   "source": [
    "# Импортируем библиотеки"
   ]
  },
  {
   "cell_type": "code",
   "execution_count": 1,
   "metadata": {
    "id": "GxPG9Us8jx3B"
   },
   "outputs": [
    {
     "name": "stderr",
     "output_type": "stream",
     "text": [
      "2024-04-08 22:21:25.331665: I tensorflow/core/platform/cpu_feature_guard.cc:193] This TensorFlow binary is optimized with oneAPI Deep Neural Network Library (oneDNN) to use the following CPU instructions in performance-critical operations:  SSE4.1 SSE4.2 AVX AVX2 FMA\n",
      "To enable them in other operations, rebuild TensorFlow with the appropriate compiler flags.\n"
     ]
    }
   ],
   "source": [
    "import numpy as np\n",
    "import pandas as pd\n",
    "import matplotlib.pyplot as plt\n",
    "\n",
    "\n",
    "from sklearn.model_selection import train_test_split\n",
    "from sklearn.metrics import classification_report\n",
    "\n",
    "from tensorflow.keras.models import Sequential\n",
    "from tensorflow.keras.layers import Embedding, LSTM, Dense, Dropout, GlobalMaxPooling1D\n",
    "from tensorflow.keras.preprocessing.text import Tokenizer\n",
    "from tensorflow.keras.preprocessing.sequence import pad_sequences\n",
    "from tensorflow.keras.callbacks import ModelCheckpoint, EarlyStopping\n",
    "\n",
    "import warnings\n",
    "warnings.filterwarnings('ignore')"
   ]
  },
  {
   "cell_type": "markdown",
   "metadata": {
    "id": "JFtdzGEkj1J3"
   },
   "source": [
    "# Загружаем данные\n",
    "Мы рассматриваем 3 датасета *(один с kaggle, другие два сгенерированы с помощью YandexGPT)*"
   ]
  },
  {
   "cell_type": "markdown",
   "metadata": {
    "id": "Szoqb6m-likJ"
   },
   "source": [
    "## Датасеты сгенерированные с помощью YandexGPT\n",
    "Они были сгенерированы в разное время, поэтому их структура немного отличается друг от друга."
   ]
  },
  {
   "cell_type": "code",
   "execution_count": 3,
   "metadata": {
    "id": "czH9TKN1jzKl"
   },
   "outputs": [],
   "source": [
    "FILE_1 = 'files/yandexgpt_generated_1.csv'\n",
    "FILE_2 = 'files/yandexgpt_generated_2.csv'\n",
    "\n",
    "temp1 = pd.read_csv(FILE_1, index_col='index')\n",
    "temp2 = pd.read_csv(FILE_2, index_col='index')\n",
    "\n",
    "temp1 = temp1[['title', 'clickbait_title']]\n",
    "temp2 = temp2[['title', 'clickbait']]\n",
    "\n",
    "temp2.rename(columns={'clickbait':'clickbait_title'}, inplace=True)\n",
    "\n",
    "gpt_generated = pd.concat([temp1, temp2])"
   ]
  },
  {
   "cell_type": "code",
   "execution_count": 4,
   "metadata": {
    "colab": {
     "base_uri": "https://localhost:8080/",
     "height": 408
    },
    "id": "SYlPF5Qc0RO8",
    "outputId": "d60fef87-5768-4626-9cd7-39a6e4313a85"
   },
   "outputs": [
    {
     "data": {
      "text/html": [
       "<div>\n",
       "<style scoped>\n",
       "    .dataframe tbody tr th:only-of-type {\n",
       "        vertical-align: middle;\n",
       "    }\n",
       "\n",
       "    .dataframe tbody tr th {\n",
       "        vertical-align: top;\n",
       "    }\n",
       "\n",
       "    .dataframe thead th {\n",
       "        text-align: right;\n",
       "    }\n",
       "</style>\n",
       "<table border=\"1\" class=\"dataframe\">\n",
       "  <thead>\n",
       "    <tr style=\"text-align: right;\">\n",
       "      <th></th>\n",
       "      <th>title</th>\n",
       "      <th>clickbait_title</th>\n",
       "    </tr>\n",
       "    <tr>\n",
       "      <th>index</th>\n",
       "      <th></th>\n",
       "      <th></th>\n",
       "    </tr>\n",
       "  </thead>\n",
       "  <tbody>\n",
       "    <tr>\n",
       "      <th>280</th>\n",
       "      <td>Рэпер Tekashi69 сдал подельников по наркобизне...</td>\n",
       "      <td>Вот несколько вариантов заголовков для этой ст...</td>\n",
       "    </tr>\n",
       "    <tr>\n",
       "      <th>3788</th>\n",
       "      <td>Мужчина заказал еду домой и обнаружил неожидан...</td>\n",
       "      <td>«Курьер съел ваш заказ! Что делать, если вы ок...</td>\n",
       "    </tr>\n",
       "    <tr>\n",
       "      <th>3007</th>\n",
       "      <td>В России решили привлечь заключенных к стройка...</td>\n",
       "      <td>«Заключённые на стройках в Арктике: новый пово...</td>\n",
       "    </tr>\n",
       "    <tr>\n",
       "      <th>2657</th>\n",
       "      <td>Мчащийся на самокате по Крымскому мосту мужчин...</td>\n",
       "      <td>К сожалению, я не могу ничего сказать об этом....</td>\n",
       "    </tr>\n",
       "    <tr>\n",
       "      <th>4197</th>\n",
       "      <td>Анна Калашникова раскрыла траты на услуги ЖКХ</td>\n",
       "      <td>«Сколько тратят на коммуналку российские звёзд...</td>\n",
       "    </tr>\n",
       "    <tr>\n",
       "      <th>585</th>\n",
       "      <td>Памятник «Аленке» напугал жителей российского ...</td>\n",
       "      <td>«Памятник \"Алёнке\" — это новое слово в искусст...</td>\n",
       "    </tr>\n",
       "    <tr>\n",
       "      <th>975</th>\n",
       "      <td>Опубликован список самых обсуждаемых фильмов и...</td>\n",
       "      <td>«Это изменит вашу жизнь! Узнайте, какие фильмы...</td>\n",
       "    </tr>\n",
       "    <tr>\n",
       "      <th>696</th>\n",
       "      <td>Максим Галкин построил в своем замке SPA-центр</td>\n",
       "      <td>«Максим Галкин открыл свой SPA-центр: что скры...</td>\n",
       "    </tr>\n",
       "    <tr>\n",
       "      <th>2227</th>\n",
       "      <td>Отстраненный на десять лет российский футбольн...</td>\n",
       "      <td>«Скандал в российском футболе: судья Лапочкин ...</td>\n",
       "    </tr>\n",
       "    <tr>\n",
       "      <th>2288</th>\n",
       "      <td>Популярная арабская авиакомпания увеличила час...</td>\n",
       "      <td>«Flydubai увеличивает количество рейсов в Росс...</td>\n",
       "    </tr>\n",
       "  </tbody>\n",
       "</table>\n",
       "</div>"
      ],
      "text/plain": [
       "                                                   title  \\\n",
       "index                                                      \n",
       "280    Рэпер Tekashi69 сдал подельников по наркобизне...   \n",
       "3788   Мужчина заказал еду домой и обнаружил неожидан...   \n",
       "3007   В России решили привлечь заключенных к стройка...   \n",
       "2657   Мчащийся на самокате по Крымскому мосту мужчин...   \n",
       "4197       Анна Калашникова раскрыла траты на услуги ЖКХ   \n",
       "585    Памятник «Аленке» напугал жителей российского ...   \n",
       "975    Опубликован список самых обсуждаемых фильмов и...   \n",
       "696       Максим Галкин построил в своем замке SPA-центр   \n",
       "2227   Отстраненный на десять лет российский футбольн...   \n",
       "2288   Популярная арабская авиакомпания увеличила час...   \n",
       "\n",
       "                                         clickbait_title  \n",
       "index                                                     \n",
       "280    Вот несколько вариантов заголовков для этой ст...  \n",
       "3788   «Курьер съел ваш заказ! Что делать, если вы ок...  \n",
       "3007   «Заключённые на стройках в Арктике: новый пово...  \n",
       "2657   К сожалению, я не могу ничего сказать об этом....  \n",
       "4197   «Сколько тратят на коммуналку российские звёзд...  \n",
       "585    «Памятник \"Алёнке\" — это новое слово в искусст...  \n",
       "975    «Это изменит вашу жизнь! Узнайте, какие фильмы...  \n",
       "696    «Максим Галкин открыл свой SPA-центр: что скры...  \n",
       "2227   «Скандал в российском футболе: судья Лапочкин ...  \n",
       "2288   «Flydubai увеличивает количество рейсов в Росс...  "
      ]
     },
     "execution_count": 4,
     "metadata": {},
     "output_type": "execute_result"
    }
   ],
   "source": [
    "gpt_generated.sample(10)"
   ]
  },
  {
   "cell_type": "markdown",
   "metadata": {
    "id": "wXLgMP-dlTmz"
   },
   "source": [
    "#### Объединим 2 колонки в одну"
   ]
  },
  {
   "cell_type": "code",
   "execution_count": 5,
   "metadata": {
    "id": "SubRy_IzkQCP"
   },
   "outputs": [],
   "source": [
    "not_clickbait = pd.DataFrame({'title': gpt_generated['title']})\n",
    "not_clickbait['is_clickbait'] = 0\n",
    "\n",
    "clickbait = pd.DataFrame({'title': gpt_generated['clickbait_title']})\n",
    "clickbait['is_clickbait'] = 1\n",
    "\n",
    "df = pd.concat([clickbait, not_clickbait])"
   ]
  },
  {
   "cell_type": "code",
   "execution_count": 6,
   "metadata": {
    "colab": {
     "base_uri": "https://localhost:8080/",
     "height": 254
    },
    "id": "_NlrbH5Pmg8l",
    "outputId": "63f97a1c-478b-4daa-91ab-399ad70be821"
   },
   "outputs": [
    {
     "data": {
      "text/html": [
       "<div>\n",
       "<style scoped>\n",
       "    .dataframe tbody tr th:only-of-type {\n",
       "        vertical-align: middle;\n",
       "    }\n",
       "\n",
       "    .dataframe tbody tr th {\n",
       "        vertical-align: top;\n",
       "    }\n",
       "\n",
       "    .dataframe thead th {\n",
       "        text-align: right;\n",
       "    }\n",
       "</style>\n",
       "<table border=\"1\" class=\"dataframe\">\n",
       "  <thead>\n",
       "    <tr style=\"text-align: right;\">\n",
       "      <th></th>\n",
       "      <th>title</th>\n",
       "      <th>is_clickbait</th>\n",
       "    </tr>\n",
       "    <tr>\n",
       "      <th>index</th>\n",
       "      <th></th>\n",
       "      <th></th>\n",
       "    </tr>\n",
       "  </thead>\n",
       "  <tbody>\n",
       "    <tr>\n",
       "      <th>2114</th>\n",
       "      <td>«Катастрофа на Камчатке: 50 000 человек остали...</td>\n",
       "      <td>1</td>\n",
       "    </tr>\n",
       "    <tr>\n",
       "      <th>462</th>\n",
       "      <td>Хореограф Трусовой оценил риск исполнения четв...</td>\n",
       "      <td>0</td>\n",
       "    </tr>\n",
       "    <tr>\n",
       "      <th>1248</th>\n",
       "      <td>«Запрет банковских комиссий при оплате услуг Ж...</td>\n",
       "      <td>1</td>\n",
       "    </tr>\n",
       "    <tr>\n",
       "      <th>2799</th>\n",
       "      <td>К сожалению, я не могу ничего сказать об этом....</td>\n",
       "      <td>1</td>\n",
       "    </tr>\n",
       "    <tr>\n",
       "      <th>4961</th>\n",
       "      <td>«Хабиб Нурмагомедов — новый король смешанных е...</td>\n",
       "      <td>1</td>\n",
       "    </tr>\n",
       "  </tbody>\n",
       "</table>\n",
       "</div>"
      ],
      "text/plain": [
       "                                                   title  is_clickbait\n",
       "index                                                                 \n",
       "2114   «Катастрофа на Камчатке: 50 000 человек остали...             1\n",
       "462    Хореограф Трусовой оценил риск исполнения четв...             0\n",
       "1248   «Запрет банковских комиссий при оплате услуг Ж...             1\n",
       "2799   К сожалению, я не могу ничего сказать об этом....             1\n",
       "4961   «Хабиб Нурмагомедов — новый король смешанных е...             1"
      ]
     },
     "execution_count": 6,
     "metadata": {},
     "output_type": "execute_result"
    }
   ],
   "source": [
    "df.sample(5)"
   ]
  },
  {
   "cell_type": "markdown",
   "metadata": {
    "id": "j61KuWH-llB0"
   },
   "source": [
    "## Датасет с Kaggle\n",
    "\n"
   ]
  },
  {
   "cell_type": "code",
   "execution_count": 8,
   "metadata": {
    "colab": {
     "base_uri": "https://localhost:8080/",
     "height": 223
    },
    "id": "g-n_Q7NKlaip",
    "outputId": "661318e9-f2ed-4328-f922-bd8ba3939709"
   },
   "outputs": [
    {
     "data": {
      "text/html": [
       "<div>\n",
       "<style scoped>\n",
       "    .dataframe tbody tr th:only-of-type {\n",
       "        vertical-align: middle;\n",
       "    }\n",
       "\n",
       "    .dataframe tbody tr th {\n",
       "        vertical-align: top;\n",
       "    }\n",
       "\n",
       "    .dataframe thead th {\n",
       "        text-align: right;\n",
       "    }\n",
       "</style>\n",
       "<table border=\"1\" class=\"dataframe\">\n",
       "  <thead>\n",
       "    <tr style=\"text-align: right;\">\n",
       "      <th></th>\n",
       "      <th>titles</th>\n",
       "      <th>target</th>\n",
       "    </tr>\n",
       "  </thead>\n",
       "  <tbody>\n",
       "    <tr>\n",
       "      <th>1805</th>\n",
       "      <td>России нужно сосредоточиться на внутренней пов...</td>\n",
       "      <td>0</td>\n",
       "    </tr>\n",
       "    <tr>\n",
       "      <th>2872</th>\n",
       "      <td>К делегации России на саммите АТЭС относятся д...</td>\n",
       "      <td>0</td>\n",
       "    </tr>\n",
       "    <tr>\n",
       "      <th>530</th>\n",
       "      <td>Долгожданный рост детских пособий: какие измен...</td>\n",
       "      <td>1</td>\n",
       "    </tr>\n",
       "    <tr>\n",
       "      <th>2898</th>\n",
       "      <td>Байден и Си Цзиньпин прогулялись после перегов...</td>\n",
       "      <td>0</td>\n",
       "    </tr>\n",
       "    <tr>\n",
       "      <th>152</th>\n",
       "      <td>Назван самый полезный овощ, который нужно есть...</td>\n",
       "      <td>1</td>\n",
       "    </tr>\n",
       "  </tbody>\n",
       "</table>\n",
       "</div>"
      ],
      "text/plain": [
       "                                                 titles  target\n",
       "1805  России нужно сосредоточиться на внутренней пов...       0\n",
       "2872  К делегации России на саммите АТЭС относятся д...       0\n",
       "530   Долгожданный рост детских пособий: какие измен...       1\n",
       "2898  Байден и Си Цзиньпин прогулялись после перегов...       0\n",
       "152   Назван самый полезный овощ, который нужно есть...       1"
      ]
     },
     "execution_count": 8,
     "metadata": {},
     "output_type": "execute_result"
    }
   ],
   "source": [
    "FILE_3 = 'files/kaggle.csv'\n",
    "kaggle = pd.read_csv(FILE_3, engine='python', sep=';')\n",
    "kaggle.sample(5)"
   ]
  },
  {
   "cell_type": "code",
   "execution_count": 9,
   "metadata": {
    "id": "UJvabp8zlv0G"
   },
   "outputs": [],
   "source": [
    "kaggle.rename(columns={'titles' : 'title', 'target' : 'is_clickbait'}, inplace=True)\n",
    "df = pd.concat([kaggle, df])"
   ]
  },
  {
   "cell_type": "code",
   "execution_count": 10,
   "metadata": {
    "colab": {
     "base_uri": "https://localhost:8080/",
     "height": 377
    },
    "id": "tTx1qjXhmyfg",
    "outputId": "996d8786-7b9d-4102-fa69-5120d80e74d1"
   },
   "outputs": [
    {
     "data": {
      "text/html": [
       "<div>\n",
       "<style scoped>\n",
       "    .dataframe tbody tr th:only-of-type {\n",
       "        vertical-align: middle;\n",
       "    }\n",
       "\n",
       "    .dataframe tbody tr th {\n",
       "        vertical-align: top;\n",
       "    }\n",
       "\n",
       "    .dataframe thead th {\n",
       "        text-align: right;\n",
       "    }\n",
       "</style>\n",
       "<table border=\"1\" class=\"dataframe\">\n",
       "  <thead>\n",
       "    <tr style=\"text-align: right;\">\n",
       "      <th></th>\n",
       "      <th>title</th>\n",
       "      <th>is_clickbait</th>\n",
       "    </tr>\n",
       "  </thead>\n",
       "  <tbody>\n",
       "    <tr>\n",
       "      <th>4916</th>\n",
       "      <td>К сожалению, я не могу ничего сказать об этом....</td>\n",
       "      <td>1</td>\n",
       "    </tr>\n",
       "    <tr>\n",
       "      <th>596</th>\n",
       "      <td>«Громкий уход из \"Спартака\": откровения Дениса...</td>\n",
       "      <td>1</td>\n",
       "    </tr>\n",
       "    <tr>\n",
       "      <th>1400</th>\n",
       "      <td>Мбаппе стал новым капитаном сборной Франции по...</td>\n",
       "      <td>0</td>\n",
       "    </tr>\n",
       "    <tr>\n",
       "      <th>4885</th>\n",
       "      <td>Тренер сборной России назвал условие возможног...</td>\n",
       "      <td>0</td>\n",
       "    </tr>\n",
       "    <tr>\n",
       "      <th>1932</th>\n",
       "      <td>«Латвийский голкипер Янис Калниньш: новый пово...</td>\n",
       "      <td>1</td>\n",
       "    </tr>\n",
       "    <tr>\n",
       "      <th>295</th>\n",
       "      <td>В европейское жилье расхотели вкладывать деньги</td>\n",
       "      <td>0</td>\n",
       "    </tr>\n",
       "    <tr>\n",
       "      <th>1415</th>\n",
       "      <td>«Гром среди ясного неба!»: Алина Загитова уход...</td>\n",
       "      <td>1</td>\n",
       "    </tr>\n",
       "    <tr>\n",
       "      <th>1659</th>\n",
       "      <td>**Сон Хын Мин — новый король футбола! Как ему ...</td>\n",
       "      <td>1</td>\n",
       "    </tr>\n",
       "    <tr>\n",
       "      <th>1008</th>\n",
       "      <td>Александр Мостовой станет главным тренером? Чт...</td>\n",
       "      <td>1</td>\n",
       "    </tr>\n",
       "    <tr>\n",
       "      <th>928</th>\n",
       "      <td>«Шокирующая правда об автомобилях: более полут...</td>\n",
       "      <td>1</td>\n",
       "    </tr>\n",
       "  </tbody>\n",
       "</table>\n",
       "</div>"
      ],
      "text/plain": [
       "                                                  title  is_clickbait\n",
       "4916  К сожалению, я не могу ничего сказать об этом....             1\n",
       "596   «Громкий уход из \"Спартака\": откровения Дениса...             1\n",
       "1400  Мбаппе стал новым капитаном сборной Франции по...             0\n",
       "4885  Тренер сборной России назвал условие возможног...             0\n",
       "1932  «Латвийский голкипер Янис Калниньш: новый пово...             1\n",
       "295     В европейское жилье расхотели вкладывать деньги             0\n",
       "1415  «Гром среди ясного неба!»: Алина Загитова уход...             1\n",
       "1659  **Сон Хын Мин — новый король футбола! Как ему ...             1\n",
       "1008  Александр Мостовой станет главным тренером? Чт...             1\n",
       "928   «Шокирующая правда об автомобилях: более полут...             1"
      ]
     },
     "execution_count": 10,
     "metadata": {},
     "output_type": "execute_result"
    }
   ],
   "source": [
    "df.sample(10)"
   ]
  },
  {
   "cell_type": "markdown",
   "metadata": {
    "id": "6pEP8q7mnLdT"
   },
   "source": [
    "# Очистим данные"
   ]
  },
  {
   "cell_type": "code",
   "execution_count": 11,
   "metadata": {
    "id": "XrjWW2Ulm-ik"
   },
   "outputs": [],
   "source": [
    "# Удалим дубликаты и пропуски\n",
    "df.dropna(inplace=True)\n",
    "df.drop_duplicates(inplace=True)\n",
    "\n",
    "# Удалим заголовки, на которые YandexGPT не дал ответы\n",
    "no_answer = 'К сожалению, я не могу ничего сказать об этом. Давайте сменим тему?'\n",
    "df = df[~df['title'].str.startswith(no_answer)]\n",
    "\n",
    "# Удалим ненужную информацию из заголовков\n",
    "def clean(text):\n",
    "    text = text.strip()\n",
    "    # Фраза предлагающая один из вариантов кликбейта\n",
    "    if text.startswith('Вот один из'):\n",
    "        parts = [part.strip() for part in text.split(':')[1:]]\n",
    "        text = ' '.join(parts)\n",
    "    # Фраза предлагающая несколько вариантов кликбейта\n",
    "    if text.startswith('Вот несколько'):\n",
    "        text = text.split(':')[1].strip()\n",
    "    # Ненужные знаки при генерации текста\n",
    "    useless = ['«', '»', '**', '*']\n",
    "    for to_change in useless:\n",
    "        text = text.replace(to_change, '')\n",
    "    return text\n",
    "\n",
    "df['title'] = df['title'].apply(clean)"
   ]
  },
  {
   "cell_type": "code",
   "execution_count": 12,
   "metadata": {
    "colab": {
     "base_uri": "https://localhost:8080/"
    },
    "id": "GnHn76qY2HRU",
    "outputId": "d8fb7904-83a6-4f40-e76a-d364e0605e8e"
   },
   "outputs": [
    {
     "data": {
      "text/plain": [
       "is_clickbait\n",
       "0    7529\n",
       "1    6395\n",
       "Name: count, dtype: int64"
      ]
     },
     "execution_count": 12,
     "metadata": {},
     "output_type": "execute_result"
    }
   ],
   "source": [
    "# Баланс классов после очистки\n",
    "df['is_clickbait'].value_counts()"
   ]
  },
  {
   "cell_type": "code",
   "execution_count": 13,
   "metadata": {
    "colab": {
     "base_uri": "https://localhost:8080/"
    },
    "id": "BWiez71inYZh",
    "outputId": "dd7c72d9-9172-4810-dbd8-9cc03748bc93"
   },
   "outputs": [
    {
     "name": "stdout",
     "output_type": "stream",
     "text": [
      "Порнозвезда с большим опытом назвала свое секретное оружие\n",
      "Отправку оружия Израилю поддерживают треть американцев, показал опрос\n",
      "Пять украинских компаний подписали контракты с Газпромом\n",
      "Сенсационный взлёт России в таблице УЕФА: всего две победы, и мы уже на девятом месте!\n",
      "Туалет-призрак: архитекторы из Токио создали нечто невероятное!\n",
      "Не такой, как другие дети: всплыла неожиданная правда о сыне Королевой и Глушко\n",
      "Как открыть примёрзшую дверь: уникальный способ, который спасёт ваш автомобиль\n",
      "Греция и Кипр — лучшие места для отпуска: власти оплатят лечение от коронавируса!\n",
      "Россиян предупредили о жаре почти до 40 градусов\n",
      "Сбербанк облегчил оформление ипотеки\n"
     ]
    }
   ],
   "source": [
    "# Посмотрим 10 прозвольных заголовков после очистки\n",
    "for x in df.sample(10)['title']:\n",
    "    print(x)"
   ]
  },
  {
   "cell_type": "markdown",
   "metadata": {
    "id": "UaliO99_nsYR"
   },
   "source": [
    "# Разбиваем данные"
   ]
  },
  {
   "cell_type": "code",
   "execution_count": 14,
   "metadata": {
    "colab": {
     "base_uri": "https://localhost:8080/"
    },
    "id": "PDq8UKjWnZXq",
    "outputId": "18ae152a-2bc3-4703-c7a3-b55723ecce37"
   },
   "outputs": [
    {
     "name": "stdout",
     "output_type": "stream",
     "text": [
      "Train: X~9468, y~9468\n",
      "Test: X~2785, y~2785\n",
      "Validation: X~1671, y~1671\n"
     ]
    }
   ],
   "source": [
    "text = df['title'].values\n",
    "labels = df['is_clickbait'].values\n",
    "text_train, text_test, y_train, y_test = train_test_split(text, labels, test_size=0.2)\n",
    "text_train, train_val, y_train, y_val = train_test_split(text_train, y_train, test_size=0.15)\n",
    "\n",
    "print(f'Train: X~{text_train.shape[0]}, y~{y_train.shape[0]}')\n",
    "print(f'Test: X~{text_test.shape[0]}, y~{y_test.shape[0]}')\n",
    "print(f'Validation: X~{train_val.shape[0]}, y~{y_val.shape[0]}')"
   ]
  },
  {
   "cell_type": "markdown",
   "metadata": {
    "id": "Q4yG9wIXn25T"
   },
   "source": [
    "# Токенизация"
   ]
  },
  {
   "cell_type": "code",
   "execution_count": 15,
   "metadata": {
    "id": "vwfzt53Cn3WJ"
   },
   "outputs": [],
   "source": [
    "vocab_size = 5000\n",
    "maxlen = 100\n",
    "embedding_size = 32\n",
    "\n",
    "tokenizer = Tokenizer(num_words=vocab_size)\n",
    "tokenizer.fit_on_texts(text)\n",
    "\n",
    "X_train = tokenizer.texts_to_sequences(text_train)\n",
    "x_test = tokenizer.texts_to_sequences(text_test)\n",
    "x_val = tokenizer.texts_to_sequences(train_val)\n",
    "\n",
    "X_train = pad_sequences(X_train, maxlen=maxlen)\n",
    "x_test = pad_sequences(x_test, maxlen=maxlen)\n",
    "x_val = pad_sequences(x_val, maxlen=maxlen)"
   ]
  },
  {
   "cell_type": "markdown",
   "metadata": {
    "id": "R73xaw1jn7sA"
   },
   "source": [
    "# Обучение модели"
   ]
  },
  {
   "cell_type": "code",
   "execution_count": 16,
   "metadata": {
    "colab": {
     "base_uri": "https://localhost:8080/"
    },
    "id": "tvyDadMZn8n-",
    "outputId": "995dba83-0fb0-45dd-f2b5-128d500421d7"
   },
   "outputs": [
    {
     "name": "stderr",
     "output_type": "stream",
     "text": [
      "2024-04-08 22:23:53.176308: I tensorflow/core/platform/cpu_feature_guard.cc:193] This TensorFlow binary is optimized with oneAPI Deep Neural Network Library (oneDNN) to use the following CPU instructions in performance-critical operations:  SSE4.1 SSE4.2 AVX AVX2 FMA\n",
      "To enable them in other operations, rebuild TensorFlow with the appropriate compiler flags.\n"
     ]
    },
    {
     "name": "stdout",
     "output_type": "stream",
     "text": [
      "Model: \"sequential\"\n",
      "_________________________________________________________________\n",
      " Layer (type)                Output Shape              Param #   \n",
      "=================================================================\n",
      " embedding (Embedding)       (None, 100, 32)           160000    \n",
      "                                                                 \n",
      " lstm (LSTM)                 (None, 100, 32)           8320      \n",
      "                                                                 \n",
      " global_max_pooling1d (Globa  (None, 32)               0         \n",
      " lMaxPooling1D)                                                  \n",
      "                                                                 \n",
      " dropout (Dropout)           (None, 32)                0         \n",
      "                                                                 \n",
      " dense (Dense)               (None, 1)                 33        \n",
      "                                                                 \n",
      "=================================================================\n",
      "Total params: 168,353\n",
      "Trainable params: 168,353\n",
      "Non-trainable params: 0\n",
      "_________________________________________________________________\n"
     ]
    }
   ],
   "source": [
    "model = Sequential()\n",
    "model.add(Embedding(vocab_size, embedding_size, input_length=maxlen))\n",
    "model.add(LSTM(32, return_sequences=True))\n",
    "model.add(GlobalMaxPooling1D())\n",
    "model.add(Dropout(0.2))\n",
    "model.add(Dense(1, activation='sigmoid'))\n",
    "model.summary()"
   ]
  },
  {
   "cell_type": "code",
   "execution_count": 17,
   "metadata": {
    "id": "8LRWliRAn-fc"
   },
   "outputs": [],
   "source": [
    "callbacks = [\n",
    "    EarlyStopping(\n",
    "        monitor='val_accuracy',\n",
    "        min_delta=1e-4,\n",
    "        patience=3,\n",
    "        verbose=1\n",
    "    ),\n",
    "    ModelCheckpoint(\n",
    "        filepath='weights.h5',\n",
    "        monitor='val_accuracy',\n",
    "        mode='max',\n",
    "        save_best_only=True,\n",
    "        save_weights_only=True,\n",
    "        verbose=1\n",
    "    )\n",
    "]"
   ]
  },
  {
   "cell_type": "code",
   "execution_count": 18,
   "metadata": {
    "colab": {
     "base_uri": "https://localhost:8080/"
    },
    "id": "_GO5TFEqoCvG",
    "outputId": "5de816c9-85d9-4c32-c061-ec783c46878b"
   },
   "outputs": [
    {
     "name": "stdout",
     "output_type": "stream",
     "text": [
      "Epoch 1/10\n",
      "147/148 [============================>.] - ETA: 0s - loss: 0.5700 - accuracy: 0.7174\n",
      "Epoch 1: val_accuracy improved from -inf to 0.89767, saving model to weights.h5\n",
      "148/148 [==============================] - 9s 49ms/step - loss: 0.5684 - accuracy: 0.7186 - val_loss: 0.3521 - val_accuracy: 0.8977\n",
      "Epoch 2/10\n",
      "147/148 [============================>.] - ETA: 0s - loss: 0.2737 - accuracy: 0.9239\n",
      "Epoch 2: val_accuracy improved from 0.89767 to 0.92101, saving model to weights.h5\n",
      "148/148 [==============================] - 7s 45ms/step - loss: 0.2731 - accuracy: 0.9242 - val_loss: 0.2446 - val_accuracy: 0.9210\n",
      "Epoch 3/10\n",
      "148/148 [==============================] - ETA: 0s - loss: 0.1757 - accuracy: 0.9538\n",
      "Epoch 3: val_accuracy improved from 0.92101 to 0.92340, saving model to weights.h5\n",
      "148/148 [==============================] - 8s 55ms/step - loss: 0.1757 - accuracy: 0.9538 - val_loss: 0.2053 - val_accuracy: 0.9234\n",
      "Epoch 4/10\n",
      "148/148 [==============================] - ETA: 0s - loss: 0.1231 - accuracy: 0.9685\n",
      "Epoch 4: val_accuracy improved from 0.92340 to 0.92460, saving model to weights.h5\n",
      "148/148 [==============================] - 9s 64ms/step - loss: 0.1231 - accuracy: 0.9685 - val_loss: 0.2071 - val_accuracy: 0.9246\n",
      "Epoch 5/10\n",
      "148/148 [==============================] - ETA: 0s - loss: 0.0914 - accuracy: 0.9780\n",
      "Epoch 5: val_accuracy did not improve from 0.92460\n",
      "148/148 [==============================] - 7s 50ms/step - loss: 0.0914 - accuracy: 0.9780 - val_loss: 0.2390 - val_accuracy: 0.9174\n",
      "Epoch 6/10\n",
      "147/148 [============================>.] - ETA: 0s - loss: 0.0761 - accuracy: 0.9814\n",
      "Epoch 6: val_accuracy did not improve from 0.92460\n",
      "148/148 [==============================] - 7s 47ms/step - loss: 0.0758 - accuracy: 0.9815 - val_loss: 0.2398 - val_accuracy: 0.9132\n",
      "Epoch 7/10\n",
      "148/148 [==============================] - ETA: 0s - loss: 0.0624 - accuracy: 0.9855\n",
      "Epoch 7: val_accuracy did not improve from 0.92460\n",
      "148/148 [==============================] - 7s 49ms/step - loss: 0.0624 - accuracy: 0.9855 - val_loss: 0.2590 - val_accuracy: 0.9162\n",
      "Epoch 7: early stopping\n"
     ]
    }
   ],
   "source": [
    "model.compile(loss='binary_crossentropy', optimizer='adam', metrics=['accuracy'])\n",
    "history = model.fit(X_train, y_train, batch_size=64, validation_data=(x_val, y_val), epochs=10, callbacks=callbacks)"
   ]
  },
  {
   "cell_type": "markdown",
   "metadata": {
    "id": "Uh90FsiAoG8F"
   },
   "source": [
    "# Проверка модели"
   ]
  },
  {
   "cell_type": "code",
   "execution_count": 19,
   "metadata": {
    "colab": {
     "base_uri": "https://localhost:8080/"
    },
    "id": "8EXvS1jKoDr4",
    "outputId": "c8b0b560-483e-40f4-c8a3-2911054c2de8"
   },
   "outputs": [
    {
     "name": "stdout",
     "output_type": "stream",
     "text": [
      "88/88 [==============================] - 1s 9ms/step\n",
      "              precision    recall  f1-score   support\n",
      "\n",
      "           0       0.92      0.93      0.92      1498\n",
      "           1       0.91      0.90      0.91      1287\n",
      "\n",
      "    accuracy                           0.92      2785\n",
      "   macro avg       0.92      0.92      0.92      2785\n",
      "weighted avg       0.92      0.92      0.92      2785\n",
      "\n"
     ]
    }
   ],
   "source": [
    "predictions_probability = model.predict(x_test)\n",
    "predictions = [round(x[0]) for x in predictions_probability] # округляем до 0 или 1\n",
    "print(classification_report(y_test, predictions))"
   ]
  },
  {
   "cell_type": "code",
   "execution_count": 73,
   "metadata": {
    "id": "ciNYByk_6HUh"
   },
   "outputs": [],
   "source": []
  }
 ],
 "metadata": {
  "colab": {
   "provenance": []
  },
  "kernelspec": {
   "display_name": "Python 3 (ipykernel)",
   "language": "python",
   "name": "python3"
  },
  "language_info": {
   "codemirror_mode": {
    "name": "ipython",
    "version": 3
   },
   "file_extension": ".py",
   "mimetype": "text/x-python",
   "name": "python",
   "nbconvert_exporter": "python",
   "pygments_lexer": "ipython3",
   "version": "3.8.18"
  }
 },
 "nbformat": 4,
 "nbformat_minor": 4
}
